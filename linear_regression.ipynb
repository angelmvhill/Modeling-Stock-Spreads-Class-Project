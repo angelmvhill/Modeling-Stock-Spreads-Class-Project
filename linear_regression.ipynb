{
 "cells": [
  {
   "cell_type": "markdown",
   "metadata": {},
   "source": [
    "# Linear Regression for Forecasting Spreads"
   ]
  },
  {
   "cell_type": "markdown",
   "metadata": {},
   "source": [
    "### Import Requirements"
   ]
  },
  {
   "cell_type": "code",
   "execution_count": 1,
   "metadata": {},
   "outputs": [],
   "source": [
    "import pandas as pd\n",
    "import numpy as np\n",
    "import pandas_ta as ta"
   ]
  },
  {
   "cell_type": "markdown",
   "metadata": {},
   "source": [
    "### Data Preparation and Feature Engineering"
   ]
  },
  {
   "cell_type": "code",
   "execution_count": null,
   "metadata": {},
   "outputs": [],
   "source": [
    "# df.corr() for correlations\n",
    "# correlation_matrix = df.corr()\n",
    "# correlation_matrix['Spread']"
   ]
  },
  {
   "cell_type": "code",
   "execution_count": null,
   "metadata": {},
   "outputs": [],
   "source": [
    "# load data\n",
    "# create small subset to test code on\n",
    "# get columns\n",
    "# index by datetime\n",
    "# add features - refer to feature eng file"
   ]
  },
  {
   "cell_type": "code",
   "execution_count": 2,
   "metadata": {},
   "outputs": [],
   "source": [
    "df = pd.read_parquet('AAPL.parquet')"
   ]
  },
  {
   "cell_type": "code",
   "execution_count": null,
   "metadata": {},
   "outputs": [],
   "source": [
    "df.corr()"
   ]
  },
  {
   "cell_type": "code",
   "execution_count": null,
   "metadata": {},
   "outputs": [],
   "source": [
    "df.columns"
   ]
  },
  {
   "cell_type": "code",
   "execution_count": null,
   "metadata": {},
   "outputs": [],
   "source": [
    "\n",
    "\n",
    "# ticker = ticker.partition(\"of \")[2].partition(\"to \")[0]\n",
    "# features.loc[('BarDateTime', slice('08:30:00', '17:00:00'))]"
   ]
  },
  {
   "cell_type": "code",
   "execution_count": 3,
   "metadata": {},
   "outputs": [],
   "source": [
    "datetime = df['BarDateTime'].dt.tz_localize(None)"
   ]
  },
  {
   "cell_type": "code",
   "execution_count": 4,
   "metadata": {},
   "outputs": [],
   "source": [
    "# time = df['BarDateTime'].strptime(\"%d-%m-%y %H:%M:%S\").second\n",
    "hour = df['BarDateTime'].dt.hour\n",
    "df['Hour'] = hour"
   ]
  },
  {
   "cell_type": "code",
   "execution_count": 5,
   "metadata": {},
   "outputs": [],
   "source": [
    "del df['BarDateTime']\n",
    "df['BarDateTime'] = datetime\n",
    "# df['Time'] = time"
   ]
  },
  {
   "cell_type": "code",
   "execution_count": null,
   "metadata": {},
   "outputs": [],
   "source": [
    "# date_generator_obj = df.sort_index().groupby('TradeDate','BarDateTime')"
   ]
  },
  {
   "cell_type": "code",
   "execution_count": 6,
   "metadata": {},
   "outputs": [],
   "source": [
    "# df.sort_index().groupby('TradeDate', group_keys=False)\n",
    "df.set_index(['TradeDate','BarDateTime'], inplace=True)"
   ]
  },
  {
   "cell_type": "code",
   "execution_count": 14,
   "metadata": {},
   "outputs": [
    {
     "data": {
      "text/html": [
       "<div>\n",
       "<style scoped>\n",
       "    .dataframe tbody tr th:only-of-type {\n",
       "        vertical-align: middle;\n",
       "    }\n",
       "\n",
       "    .dataframe tbody tr th {\n",
       "        vertical-align: top;\n",
       "    }\n",
       "\n",
       "    .dataframe thead th {\n",
       "        text-align: right;\n",
       "    }\n",
       "</style>\n",
       "<table border=\"1\" class=\"dataframe\">\n",
       "  <thead>\n",
       "    <tr style=\"text-align: right;\">\n",
       "      <th></th>\n",
       "      <th></th>\n",
       "      <th>Ticker</th>\n",
       "      <th>SecId</th>\n",
       "      <th>OpenBarTimeOffset</th>\n",
       "      <th>OpenBidPrice</th>\n",
       "      <th>OpenBidSize</th>\n",
       "      <th>OpenAskPrice</th>\n",
       "      <th>OpenAskSize</th>\n",
       "      <th>FirstTradeTimeOffset</th>\n",
       "      <th>FirstTradePrice</th>\n",
       "      <th>FirstTradeSize</th>\n",
       "      <th>...</th>\n",
       "      <th>DowntickVolume</th>\n",
       "      <th>RepeatUptickVolume</th>\n",
       "      <th>RepeatDowntickVolume</th>\n",
       "      <th>UnknownTickVolume</th>\n",
       "      <th>TradeToMidVolWeight</th>\n",
       "      <th>TradeToMidVolWeightRelative</th>\n",
       "      <th>TimeWeightBid</th>\n",
       "      <th>TimeWeightAsk</th>\n",
       "      <th>Hour</th>\n",
       "      <th>Spread</th>\n",
       "    </tr>\n",
       "    <tr>\n",
       "      <th>TradeDate</th>\n",
       "      <th>BarDateTime</th>\n",
       "      <th></th>\n",
       "      <th></th>\n",
       "      <th></th>\n",
       "      <th></th>\n",
       "      <th></th>\n",
       "      <th></th>\n",
       "      <th></th>\n",
       "      <th></th>\n",
       "      <th></th>\n",
       "      <th></th>\n",
       "      <th></th>\n",
       "      <th></th>\n",
       "      <th></th>\n",
       "      <th></th>\n",
       "      <th></th>\n",
       "      <th></th>\n",
       "      <th></th>\n",
       "      <th></th>\n",
       "      <th></th>\n",
       "      <th></th>\n",
       "      <th></th>\n",
       "    </tr>\n",
       "  </thead>\n",
       "  <tbody>\n",
       "    <tr>\n",
       "      <th rowspan=\"5\" valign=\"top\">2017-12-01</th>\n",
       "      <th>2017-12-01 09:00:00</th>\n",
       "      <td>AAPL</td>\n",
       "      <td>0</td>\n",
       "      <td>0</td>\n",
       "      <td>170.31</td>\n",
       "      <td>100</td>\n",
       "      <td>170.38</td>\n",
       "      <td>600</td>\n",
       "      <td>8.320261049</td>\n",
       "      <td>170.3800</td>\n",
       "      <td>75</td>\n",
       "      <td>...</td>\n",
       "      <td>200</td>\n",
       "      <td>245</td>\n",
       "      <td>100</td>\n",
       "      <td>0</td>\n",
       "      <td>2.28534</td>\n",
       "      <td>0.45014</td>\n",
       "      <td>170.31794</td>\n",
       "      <td>170.38000</td>\n",
       "      <td>9</td>\n",
       "      <td>0.03</td>\n",
       "    </tr>\n",
       "    <tr>\n",
       "      <th>2017-12-01 09:01:00</th>\n",
       "      <td>AAPL</td>\n",
       "      <td>0</td>\n",
       "      <td>0</td>\n",
       "      <td>170.35</td>\n",
       "      <td>300</td>\n",
       "      <td>170.38</td>\n",
       "      <td>600</td>\n",
       "      <td>8.105317418</td>\n",
       "      <td>170.3800</td>\n",
       "      <td>1</td>\n",
       "      <td>...</td>\n",
       "      <td>71</td>\n",
       "      <td>1699</td>\n",
       "      <td>80</td>\n",
       "      <td>0</td>\n",
       "      <td>1.33416</td>\n",
       "      <td>0.44472</td>\n",
       "      <td>170.35000</td>\n",
       "      <td>170.38000</td>\n",
       "      <td>9</td>\n",
       "      <td>0.03</td>\n",
       "    </tr>\n",
       "    <tr>\n",
       "      <th>2017-12-01 09:02:00</th>\n",
       "      <td>AAPL</td>\n",
       "      <td>0</td>\n",
       "      <td>0</td>\n",
       "      <td>170.35</td>\n",
       "      <td>300</td>\n",
       "      <td>170.38</td>\n",
       "      <td>600</td>\n",
       "      <td>3.672846551</td>\n",
       "      <td>170.3500</td>\n",
       "      <td>10</td>\n",
       "      <td>...</td>\n",
       "      <td>20</td>\n",
       "      <td>881</td>\n",
       "      <td>0</td>\n",
       "      <td>0</td>\n",
       "      <td>1.48701</td>\n",
       "      <td>0.49567</td>\n",
       "      <td>170.35000</td>\n",
       "      <td>170.38000</td>\n",
       "      <td>9</td>\n",
       "      <td>0.03</td>\n",
       "    </tr>\n",
       "    <tr>\n",
       "      <th>2017-12-01 09:03:00</th>\n",
       "      <td>AAPL</td>\n",
       "      <td>0</td>\n",
       "      <td>0</td>\n",
       "      <td>170.35</td>\n",
       "      <td>300</td>\n",
       "      <td>170.38</td>\n",
       "      <td>600</td>\n",
       "      <td>1.483471079</td>\n",
       "      <td>170.3800</td>\n",
       "      <td>187</td>\n",
       "      <td>...</td>\n",
       "      <td>230</td>\n",
       "      <td>1089</td>\n",
       "      <td>0</td>\n",
       "      <td>0</td>\n",
       "      <td>1.41590</td>\n",
       "      <td>0.50000</td>\n",
       "      <td>170.35523</td>\n",
       "      <td>170.38000</td>\n",
       "      <td>9</td>\n",
       "      <td>0.03</td>\n",
       "    </tr>\n",
       "    <tr>\n",
       "      <th>2017-12-01 09:04:00</th>\n",
       "      <td>AAPL</td>\n",
       "      <td>0</td>\n",
       "      <td>0</td>\n",
       "      <td>170.35</td>\n",
       "      <td>300</td>\n",
       "      <td>170.38</td>\n",
       "      <td>600</td>\n",
       "      <td>3.465247012</td>\n",
       "      <td>170.3800</td>\n",
       "      <td>18</td>\n",
       "      <td>...</td>\n",
       "      <td>1</td>\n",
       "      <td>274</td>\n",
       "      <td>302</td>\n",
       "      <td>0</td>\n",
       "      <td>0.86298</td>\n",
       "      <td>0.36514</td>\n",
       "      <td>170.35028</td>\n",
       "      <td>170.36568</td>\n",
       "      <td>9</td>\n",
       "      <td>0.03</td>\n",
       "    </tr>\n",
       "    <tr>\n",
       "      <th>...</th>\n",
       "      <th>...</th>\n",
       "      <td>...</td>\n",
       "      <td>...</td>\n",
       "      <td>...</td>\n",
       "      <td>...</td>\n",
       "      <td>...</td>\n",
       "      <td>...</td>\n",
       "      <td>...</td>\n",
       "      <td>...</td>\n",
       "      <td>...</td>\n",
       "      <td>...</td>\n",
       "      <td>...</td>\n",
       "      <td>...</td>\n",
       "      <td>...</td>\n",
       "      <td>...</td>\n",
       "      <td>...</td>\n",
       "      <td>...</td>\n",
       "      <td>...</td>\n",
       "      <td>...</td>\n",
       "      <td>...</td>\n",
       "      <td>...</td>\n",
       "      <td>...</td>\n",
       "    </tr>\n",
       "    <tr>\n",
       "      <th rowspan=\"5\" valign=\"top\">2022-06-21</th>\n",
       "      <th>2022-06-21 15:55:00</th>\n",
       "      <td>AAPL</td>\n",
       "      <td>33449</td>\n",
       "      <td>0</td>\n",
       "      <td>136.10</td>\n",
       "      <td>2400</td>\n",
       "      <td>136.11</td>\n",
       "      <td>300</td>\n",
       "      <td>0.004933554</td>\n",
       "      <td>136.1100</td>\n",
       "      <td>400</td>\n",
       "      <td>...</td>\n",
       "      <td>95550</td>\n",
       "      <td>110490</td>\n",
       "      <td>130734</td>\n",
       "      <td>0</td>\n",
       "      <td>-0.07063</td>\n",
       "      <td>-0.07102</td>\n",
       "      <td>135.99577</td>\n",
       "      <td>136.00637</td>\n",
       "      <td>15</td>\n",
       "      <td>0.02</td>\n",
       "    </tr>\n",
       "    <tr>\n",
       "      <th>2022-06-21 15:56:00</th>\n",
       "      <td>AAPL</td>\n",
       "      <td>33449</td>\n",
       "      <td>0</td>\n",
       "      <td>135.93</td>\n",
       "      <td>4200</td>\n",
       "      <td>135.95</td>\n",
       "      <td>3900</td>\n",
       "      <td>0.001685085</td>\n",
       "      <td>135.9450</td>\n",
       "      <td>100</td>\n",
       "      <td>...</td>\n",
       "      <td>102524</td>\n",
       "      <td>114507</td>\n",
       "      <td>130063</td>\n",
       "      <td>0</td>\n",
       "      <td>-0.12124</td>\n",
       "      <td>-0.12437</td>\n",
       "      <td>135.83307</td>\n",
       "      <td>135.84334</td>\n",
       "      <td>15</td>\n",
       "      <td>0.01</td>\n",
       "    </tr>\n",
       "    <tr>\n",
       "      <th>2022-06-21 15:57:00</th>\n",
       "      <td>AAPL</td>\n",
       "      <td>33449</td>\n",
       "      <td>0</td>\n",
       "      <td>135.77</td>\n",
       "      <td>8800</td>\n",
       "      <td>135.78</td>\n",
       "      <td>8500</td>\n",
       "      <td>0.042819026</td>\n",
       "      <td>135.7750</td>\n",
       "      <td>1</td>\n",
       "      <td>...</td>\n",
       "      <td>91015</td>\n",
       "      <td>121836</td>\n",
       "      <td>137988</td>\n",
       "      <td>0</td>\n",
       "      <td>-0.05136</td>\n",
       "      <td>-0.05577</td>\n",
       "      <td>135.69947</td>\n",
       "      <td>135.70995</td>\n",
       "      <td>15</td>\n",
       "      <td>0.01</td>\n",
       "    </tr>\n",
       "    <tr>\n",
       "      <th>2022-06-21 15:58:00</th>\n",
       "      <td>AAPL</td>\n",
       "      <td>33449</td>\n",
       "      <td>0</td>\n",
       "      <td>135.69</td>\n",
       "      <td>3400</td>\n",
       "      <td>135.70</td>\n",
       "      <td>2400</td>\n",
       "      <td>0.000576060</td>\n",
       "      <td>135.6900</td>\n",
       "      <td>100</td>\n",
       "      <td>...</td>\n",
       "      <td>111284</td>\n",
       "      <td>136052</td>\n",
       "      <td>147391</td>\n",
       "      <td>0</td>\n",
       "      <td>0.55197</td>\n",
       "      <td>0.55155</td>\n",
       "      <td>135.62528</td>\n",
       "      <td>135.63543</td>\n",
       "      <td>15</td>\n",
       "      <td>0.01</td>\n",
       "    </tr>\n",
       "    <tr>\n",
       "      <th>2022-06-21 15:59:00</th>\n",
       "      <td>AAPL</td>\n",
       "      <td>33449</td>\n",
       "      <td>0</td>\n",
       "      <td>135.65</td>\n",
       "      <td>5600</td>\n",
       "      <td>135.66</td>\n",
       "      <td>3500</td>\n",
       "      <td>0.000456978</td>\n",
       "      <td>135.6500</td>\n",
       "      <td>100</td>\n",
       "      <td>...</td>\n",
       "      <td>139456</td>\n",
       "      <td>335484</td>\n",
       "      <td>253240</td>\n",
       "      <td>0</td>\n",
       "      <td>0.12691</td>\n",
       "      <td>0.08955</td>\n",
       "      <td>135.75991</td>\n",
       "      <td>135.77099</td>\n",
       "      <td>15</td>\n",
       "      <td>0.01</td>\n",
       "    </tr>\n",
       "  </tbody>\n",
       "</table>\n",
       "<p>1087348 rows × 62 columns</p>\n",
       "</div>"
      ],
      "text/plain": [
       "                               Ticker  SecId OpenBarTimeOffset OpenBidPrice  \\\n",
       "TradeDate  BarDateTime                                                        \n",
       "2017-12-01 2017-12-01 09:00:00   AAPL      0                 0       170.31   \n",
       "           2017-12-01 09:01:00   AAPL      0                 0       170.35   \n",
       "           2017-12-01 09:02:00   AAPL      0                 0       170.35   \n",
       "           2017-12-01 09:03:00   AAPL      0                 0       170.35   \n",
       "           2017-12-01 09:04:00   AAPL      0                 0       170.35   \n",
       "...                               ...    ...               ...          ...   \n",
       "2022-06-21 2022-06-21 15:55:00   AAPL  33449                 0       136.10   \n",
       "           2022-06-21 15:56:00   AAPL  33449                 0       135.93   \n",
       "           2022-06-21 15:57:00   AAPL  33449                 0       135.77   \n",
       "           2022-06-21 15:58:00   AAPL  33449                 0       135.69   \n",
       "           2022-06-21 15:59:00   AAPL  33449                 0       135.65   \n",
       "\n",
       "                                OpenBidSize OpenAskPrice  OpenAskSize  \\\n",
       "TradeDate  BarDateTime                                                  \n",
       "2017-12-01 2017-12-01 09:00:00          100       170.38          600   \n",
       "           2017-12-01 09:01:00          300       170.38          600   \n",
       "           2017-12-01 09:02:00          300       170.38          600   \n",
       "           2017-12-01 09:03:00          300       170.38          600   \n",
       "           2017-12-01 09:04:00          300       170.38          600   \n",
       "...                                     ...          ...          ...   \n",
       "2022-06-21 2022-06-21 15:55:00         2400       136.11          300   \n",
       "           2022-06-21 15:56:00         4200       135.95         3900   \n",
       "           2022-06-21 15:57:00         8800       135.78         8500   \n",
       "           2022-06-21 15:58:00         3400       135.70         2400   \n",
       "           2022-06-21 15:59:00         5600       135.66         3500   \n",
       "\n",
       "                               FirstTradeTimeOffset FirstTradePrice  \\\n",
       "TradeDate  BarDateTime                                                \n",
       "2017-12-01 2017-12-01 09:00:00          8.320261049        170.3800   \n",
       "           2017-12-01 09:01:00          8.105317418        170.3800   \n",
       "           2017-12-01 09:02:00          3.672846551        170.3500   \n",
       "           2017-12-01 09:03:00          1.483471079        170.3800   \n",
       "           2017-12-01 09:04:00          3.465247012        170.3800   \n",
       "...                                             ...             ...   \n",
       "2022-06-21 2022-06-21 15:55:00          0.004933554        136.1100   \n",
       "           2022-06-21 15:56:00          0.001685085        135.9450   \n",
       "           2022-06-21 15:57:00          0.042819026        135.7750   \n",
       "           2022-06-21 15:58:00          0.000576060        135.6900   \n",
       "           2022-06-21 15:59:00          0.000456978        135.6500   \n",
       "\n",
       "                                FirstTradeSize  ... DowntickVolume  \\\n",
       "TradeDate  BarDateTime                          ...                  \n",
       "2017-12-01 2017-12-01 09:00:00              75  ...            200   \n",
       "           2017-12-01 09:01:00               1  ...             71   \n",
       "           2017-12-01 09:02:00              10  ...             20   \n",
       "           2017-12-01 09:03:00             187  ...            230   \n",
       "           2017-12-01 09:04:00              18  ...              1   \n",
       "...                                        ...  ...            ...   \n",
       "2022-06-21 2022-06-21 15:55:00             400  ...          95550   \n",
       "           2022-06-21 15:56:00             100  ...         102524   \n",
       "           2022-06-21 15:57:00               1  ...          91015   \n",
       "           2022-06-21 15:58:00             100  ...         111284   \n",
       "           2022-06-21 15:59:00             100  ...         139456   \n",
       "\n",
       "                               RepeatUptickVolume  RepeatDowntickVolume  \\\n",
       "TradeDate  BarDateTime                                                    \n",
       "2017-12-01 2017-12-01 09:00:00                245                   100   \n",
       "           2017-12-01 09:01:00               1699                    80   \n",
       "           2017-12-01 09:02:00                881                     0   \n",
       "           2017-12-01 09:03:00               1089                     0   \n",
       "           2017-12-01 09:04:00                274                   302   \n",
       "...                                           ...                   ...   \n",
       "2022-06-21 2022-06-21 15:55:00             110490                130734   \n",
       "           2022-06-21 15:56:00             114507                130063   \n",
       "           2022-06-21 15:57:00             121836                137988   \n",
       "           2022-06-21 15:58:00             136052                147391   \n",
       "           2022-06-21 15:59:00             335484                253240   \n",
       "\n",
       "                               UnknownTickVolume TradeToMidVolWeight  \\\n",
       "TradeDate  BarDateTime                                                 \n",
       "2017-12-01 2017-12-01 09:00:00                 0             2.28534   \n",
       "           2017-12-01 09:01:00                 0             1.33416   \n",
       "           2017-12-01 09:02:00                 0             1.48701   \n",
       "           2017-12-01 09:03:00                 0             1.41590   \n",
       "           2017-12-01 09:04:00                 0             0.86298   \n",
       "...                                          ...                 ...   \n",
       "2022-06-21 2022-06-21 15:55:00                 0            -0.07063   \n",
       "           2022-06-21 15:56:00                 0            -0.12124   \n",
       "           2022-06-21 15:57:00                 0            -0.05136   \n",
       "           2022-06-21 15:58:00                 0             0.55197   \n",
       "           2022-06-21 15:59:00                 0             0.12691   \n",
       "\n",
       "                                TradeToMidVolWeightRelative TimeWeightBid  \\\n",
       "TradeDate  BarDateTime                                                      \n",
       "2017-12-01 2017-12-01 09:00:00                      0.45014     170.31794   \n",
       "           2017-12-01 09:01:00                      0.44472     170.35000   \n",
       "           2017-12-01 09:02:00                      0.49567     170.35000   \n",
       "           2017-12-01 09:03:00                      0.50000     170.35523   \n",
       "           2017-12-01 09:04:00                      0.36514     170.35028   \n",
       "...                                                     ...           ...   \n",
       "2022-06-21 2022-06-21 15:55:00                     -0.07102     135.99577   \n",
       "           2022-06-21 15:56:00                     -0.12437     135.83307   \n",
       "           2022-06-21 15:57:00                     -0.05577     135.69947   \n",
       "           2022-06-21 15:58:00                      0.55155     135.62528   \n",
       "           2022-06-21 15:59:00                      0.08955     135.75991   \n",
       "\n",
       "                               TimeWeightAsk  Hour Spread  \n",
       "TradeDate  BarDateTime                                     \n",
       "2017-12-01 2017-12-01 09:00:00     170.38000     9   0.03  \n",
       "           2017-12-01 09:01:00     170.38000     9   0.03  \n",
       "           2017-12-01 09:02:00     170.38000     9   0.03  \n",
       "           2017-12-01 09:03:00     170.38000     9   0.03  \n",
       "           2017-12-01 09:04:00     170.36568     9   0.03  \n",
       "...                                      ...   ...    ...  \n",
       "2022-06-21 2022-06-21 15:55:00     136.00637    15   0.02  \n",
       "           2022-06-21 15:56:00     135.84334    15   0.01  \n",
       "           2022-06-21 15:57:00     135.70995    15   0.01  \n",
       "           2022-06-21 15:58:00     135.63543    15   0.01  \n",
       "           2022-06-21 15:59:00     135.77099    15   0.01  \n",
       "\n",
       "[1087348 rows x 62 columns]"
      ]
     },
     "execution_count": 14,
     "metadata": {},
     "output_type": "execute_result"
    }
   ],
   "source": [
    "df.fillna(method='ffill')"
   ]
  },
  {
   "cell_type": "code",
   "execution_count": 7,
   "metadata": {},
   "outputs": [],
   "source": [
    "df = df[(df.Hour > 8) & (df.Hour < 16)]"
   ]
  },
  {
   "cell_type": "code",
   "execution_count": null,
   "metadata": {},
   "outputs": [],
   "source": [
    "df.to_csv('AAPL.csv')"
   ]
  },
  {
   "cell_type": "code",
   "execution_count": null,
   "metadata": {},
   "outputs": [],
   "source": [
    "# spread\n",
    "# rel vol\n",
    "# EMA/SMA close trade price\n",
    "# EMA/SMA spread\n",
    "# return\n",
    "# volatility of price\n",
    "# volatility of returns\n",
    "# volatility of volume\n",
    "# volatility of spread"
   ]
  },
  {
   "cell_type": "markdown",
   "metadata": {},
   "source": [
    "##### Spread"
   ]
  },
  {
   "cell_type": "code",
   "execution_count": 29,
   "metadata": {},
   "outputs": [],
   "source": [
    "# spread = df['CloseAskPrice'] - df['CloseBidPrice']\n",
    "# spread\n",
    "# del spread\n",
    "\n",
    "df['Spread'] = df.apply(lambda x: x['CloseAskPrice'] - x['CloseBidPrice'], axis=1)"
   ]
  },
  {
   "cell_type": "markdown",
   "metadata": {},
   "source": [
    "##### Returns"
   ]
  },
  {
   "cell_type": "code",
   "execution_count": 27,
   "metadata": {},
   "outputs": [],
   "source": [
    "# returns = (df.apply(lambda x: ((x.LastTradePrice - x.FirstTradePrice)/x.FirstTradePrice)))\n",
    "import decimal\n",
    "\n",
    "# df['Returns'] = df.apply(lambda x: (x['LastTradePrice'] - x['FirstTradePrice'])/x['FirstTradePrice'], axis=1)\n",
    "\n",
    "df['Returns'] = df.apply(lambda x:\n",
    "     (x['LastTradePrice'] - x['FirstTradePrice'])/x['FirstTradePrice'] if x['FirstTradePrice'] != 0\n",
    "     else decimal.Decimal('NaN'), axis=1)"
   ]
  },
  {
   "cell_type": "markdown",
   "metadata": {},
   "source": [
    "##### Relative Volume"
   ]
  },
  {
   "cell_type": "code",
   "execution_count": 33,
   "metadata": {},
   "outputs": [],
   "source": [
    "df['Relative_Volume_6'] = df.apply(lambda x: (df['Volume'])/(df['Volume'].rolling(6).mean()), axis=1)\n",
    "df['Relative_Volume_12'] = df.apply(lambda x: (df['Volume'])/(df['Volume'].rolling(12).mean()), axis=1)\n",
    "df['Relative_Volume_20'] = df.apply(lambda x: (df['Volume'])/(df['Volume'].rolling(20).mean()), axis=1)\n",
    "df['Relative_Volume_30'] = df.apply(lambda x: (df['Volume'])/(df['Volume'].rolling(30).mean()), axis=1)\n",
    "df['Relative_Volume_50'] = df.apply(lambda x: (df['Volume'])/(df['Volume'].rolling(50).mean()), axis=1)\n",
    "\n",
    "# df['Relative_Volume_6'] = rel_vol_6\n",
    "# df['Relative_Volume_12'] = rel_vol_12\n",
    "# df['Relative_Volume_20'] = rel_vol_20\n",
    "# df['Relative_Volume_30'] = rel_vol_30\n",
    "# df['Relative_Volume_50'] = rel_vol_50\n",
    "\n",
    "# del(rel_vol_6)\n",
    "# del(rel_vol_12)\n",
    "# del(rel_vol_20)\n",
    "# del(rel_vol_30)\n",
    "# del(rel_vol_50)"
   ]
  },
  {
   "cell_type": "markdown",
   "metadata": {},
   "source": [
    "##### Relative Volatility Index (RVI)"
   ]
  },
  {
   "cell_type": "code",
   "execution_count": null,
   "metadata": {},
   "outputs": [],
   "source": [
    "df['RVI'] = df.apply(lambda x: ta.rvi(high = x['HighTradePrice'],\n",
    "                                      low = x['LowTradePrice'],\n",
    "                                      close = x['LastTradePrice'],\n",
    "                                      length = 14, refined = False,\n",
    "                                      thirds = False, mamode = 'sma'), axis=1)\n",
    "\n",
    "# df['RVI'] = rvi\n",
    "\n",
    "# del(rvi)"
   ]
  },
  {
   "cell_type": "markdown",
   "metadata": {},
   "source": [
    "##### Volatility of Closing Trade"
   ]
  },
  {
   "cell_type": "code",
   "execution_count": null,
   "metadata": {},
   "outputs": [],
   "source": [
    "df['Volatility_StDev6_CloseTrade'] = (df.apply(lambda x: ta.stdev(length=6, close = x['LastTradePrice']), axis=1))\n",
    "df['Volatility_StDev12_CloseTrade'] = (df.apply(lambda x: ta.stdev(length=12, close = x['LastTradePrice']), axis=1))\n",
    "df['Volatility_StDev20_CloseTrade'] = (df.apply(lambda x: ta.stdev(length=20, close = x['LastTradePrice']), axis=1))\n",
    "df['Volatility_StDev30_CloseTrade'] = (df.apply(lambda x: ta.stdev(length=30, close = x['LastTradePrice']), axis=1))\n",
    "df['Volatility_StDev50_CloseTrade'] = (df.apply(lambda x: ta.stdev(length=50, close = x['LastTradePrice']), axis=1))\n",
    "\n",
    "# df['Volatility_StDev6_CloseTrade'] = stdev_closetrade_6\n",
    "# df['Volatility_StDev12_CloseTrade'] = stdev_closetrade_12\n",
    "# df['Volatility_StDev20_CloseTrade'] = stdev_closetrade_20\n",
    "# df['Volatility_StDev30_CloseTrade'] = stdev_closetrade_30\n",
    "# df['Volatility_StDev50_CloseTrade'] = stdev_closetrade_50\n",
    "\n",
    "# del(stdev_closetrade_6)\n",
    "# del(stdev_closetrade_12)\n",
    "# del(stdev_closetrade_20)\n",
    "# del(stdev_closetrade_30)\n",
    "# del(stdev_closetrade_50)"
   ]
  },
  {
   "cell_type": "markdown",
   "metadata": {},
   "source": [
    "##### Volatility of Spread"
   ]
  },
  {
   "cell_type": "code",
   "execution_count": null,
   "metadata": {},
   "outputs": [],
   "source": [
    "df['Volatility_StDev6_Spread'] = (df.apply(lambda x: ta.stdev(length=6, close = x['Spread']), axis=1))\n",
    "df['Volatility_StDev12_Spread'] = (df.apply(lambda x: ta.stdev(length=12, close = x['Spread']), axis=1))\n",
    "df['Volatility_StDev20_Spread'] = (df.apply(lambda x: ta.stdev(length=20, close = x['Spread']), axis=1))\n",
    "df['Volatility_StDev30_Spread'] = (df.apply(lambda x: ta.stdev(length=30, close = x['Spread']), axis=1))\n",
    "df['Volatility_StDev50_Spread'] = (df.apply(lambda x: ta.stdev(length=50, close = x['Spread']), axis=1))\n",
    "\n",
    "# df['Volatility_StDev6_Spread'] = stdev_spread_6\n",
    "# df['Volatility_StDev12_Spread'] = stdev_spread_12\n",
    "# df['Volatility_StDev20_Spread'] = stdev_spread_20\n",
    "# df['Volatility_StDev30_Spread'] = stdev_spread_30\n",
    "# df['Volatility_StDev50_Spread'] = stdev_spread_50\n",
    "\n",
    "# del(stdev_spread_6)\n",
    "# del(stdev_spread_12)\n",
    "# del(stdev_spread_20)\n",
    "# del(stdev_spread_30)\n",
    "# del(stdev_spread_50)"
   ]
  },
  {
   "cell_type": "markdown",
   "metadata": {},
   "source": [
    "##### Volatility of Volume"
   ]
  },
  {
   "cell_type": "code",
   "execution_count": null,
   "metadata": {},
   "outputs": [],
   "source": [
    "df['Volatility_StDev6_Volume'] = (df.apply(lambda x: ta.stdev(length=6, close = x['Volume']), axis=1))\n",
    "df['Volatility_StDev12_Volume'] = (df.apply(lambda x: ta.stdev(length=12, close = x['Volume']), axis=1))\n",
    "df['Volatility_StDev20_Volume'] = (df.apply(lambda x: ta.stdev(length=20, close = x['Volume']), axis=1))\n",
    "df['Volatility_StDev30_Volume'] = (df.apply(lambda x: ta.stdev(length=30, close = x['Volume']), axis=1))\n",
    "df['Volatility_StDev50_Volume'] = (df.apply(lambda x: ta.stdev(length=50, close = x['Volume']), axis=1))\n",
    "\n",
    "# df['Volatility_StDev6_Volume'] = stdev_volume_6\n",
    "# df['Volatility_StDev12_Volume'] = stdev_volume_12\n",
    "# df['Volatility_StDev20_Volume'] = stdev_volume_20\n",
    "# df['Volatility_StDev30_Volume'] = stdev_volume_30\n",
    "# df['Volatility_StDev50_Volume'] = stdev_volume_50\n",
    "\n",
    "# del(stdev_volume_6)\n",
    "# del(stdev_volume_12)\n",
    "# del(stdev_volume_12)\n",
    "# del(stdev_volume_30)\n",
    "# del(stdev_volume_50)"
   ]
  },
  {
   "cell_type": "markdown",
   "metadata": {},
   "source": [
    "##### Volatility of Returns"
   ]
  },
  {
   "cell_type": "code",
   "execution_count": null,
   "metadata": {},
   "outputs": [],
   "source": [
    "df['Volatility_StDev6_Returns'] = (df.apply(lambda x: ta.stdev(length=6, close = x['Returns']), axis=1))\n",
    "df['Volatility_StDev12_Returns'] = (df.apply(lambda x: ta.stdev(length=12, close = x['Returns']), axis=1))\n",
    "df['Volatility_StDev20_Returns'] = (df.apply(lambda x: ta.stdev(length=20, close = x['Returns']), axis=1))\n",
    "df['Volatility_StDev30_Returns'] = (df.apply(lambda x: ta.stdev(length=30, close = x['Returns']), axis=1))\n",
    "df['Volatility_StDev50_Returns'] = (df.apply(lambda x: ta.stdev(length=50, close = x['Returns']), axis=1))\n",
    "\n",
    "# df['Volatility_StDev6_Returns'] = stdev_returns_6\n",
    "# df['Volatility_StDev12_Returns'] = stdev_returns_12\n",
    "# df['Volatility_StDev20_Returns'] = stdev_returns_20\n",
    "# df['Volatility_StDev30_Returns'] = stdev_returns_30\n",
    "# df['Volatility_StDev50_Returns'] = stdev_returns_50\n",
    "\n",
    "# del(stdev_returns_6)\n",
    "# del(stdev_returns_12)\n",
    "# del(stdev_returns_12)\n",
    "# del(stdev_returns_30)\n",
    "# del(stdev_returns_50)"
   ]
  },
  {
   "cell_type": "markdown",
   "metadata": {},
   "source": []
  },
  {
   "cell_type": "code",
   "execution_count": null,
   "metadata": {},
   "outputs": [],
   "source": []
  },
  {
   "cell_type": "code",
   "execution_count": null,
   "metadata": {},
   "outputs": [],
   "source": [
    "# df.set_index('BarDateTime', inplace=True)\n",
    "# grouped_df = df.groupby('TradeDate')"
   ]
  },
  {
   "cell_type": "code",
   "execution_count": null,
   "metadata": {},
   "outputs": [],
   "source": [
    "# df2 = df.apply(lambda x: x.iloc[0:50])"
   ]
  },
  {
   "cell_type": "code",
   "execution_count": null,
   "metadata": {},
   "outputs": [],
   "source": [
    "# for i in range(0, len(df), 24):\n",
    "    # slc = df.iloc[i : i + 24]"
   ]
  },
  {
   "cell_type": "code",
   "execution_count": null,
   "metadata": {},
   "outputs": [],
   "source": [
    "# by_ticker_date = df.sort_index().groupby(['BarDateTime'])\n",
    "# remove_non_mkt_hrs = (by_ticker_date.apply(lambda x: [x['09:30:00':'16:00:00']]))"
   ]
  },
  {
   "cell_type": "code",
   "execution_count": null,
   "metadata": {},
   "outputs": [],
   "source": [
    "# index\n",
    "# remove premarket and after market data"
   ]
  },
  {
   "cell_type": "code",
   "execution_count": null,
   "metadata": {},
   "outputs": [],
   "source": [
    "# calc spread and other features "
   ]
  },
  {
   "cell_type": "markdown",
   "metadata": {},
   "source": [
    "steps\n",
    "1. drop features we know we won't need\n",
    "2. add features\n",
    "3. corr()\n",
    "4. basic linear regression\n",
    "5. try cross validation / LSTM / RNN"
   ]
  }
 ],
 "metadata": {
  "kernelspec": {
   "display_name": "Python 3.9.13 64-bit (microsoft store)",
   "language": "python",
   "name": "python3"
  },
  "language_info": {
   "codemirror_mode": {
    "name": "ipython",
    "version": 3
   },
   "file_extension": ".py",
   "mimetype": "text/x-python",
   "name": "python",
   "nbconvert_exporter": "python",
   "pygments_lexer": "ipython3",
   "version": "3.9.13"
  },
  "orig_nbformat": 4,
  "vscode": {
   "interpreter": {
    "hash": "8f2b8f7d7da3b55c8640ff0ad5b752ba61ffdffe564a4378c820bcd9964834b8"
   }
  }
 },
 "nbformat": 4,
 "nbformat_minor": 2
}
