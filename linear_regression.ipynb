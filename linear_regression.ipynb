{
 "cells": [
  {
   "cell_type": "markdown",
   "metadata": {},
   "source": [
    "# Linear Regression for Forecasting Spreads"
   ]
  },
  {
   "cell_type": "markdown",
   "metadata": {},
   "source": [
    "### Import Requirements"
   ]
  },
  {
   "cell_type": "code",
   "execution_count": 36,
   "metadata": {},
   "outputs": [],
   "source": [
    "import pandas as pd\n",
    "import numpy as np\n",
    "import pandas_ta as ta\n",
    "import matplotlib.pyplot as plt"
   ]
  },
  {
   "cell_type": "markdown",
   "metadata": {},
   "source": [
    "### Data Preparation and Feature Engineering"
   ]
  },
  {
   "cell_type": "code",
   "execution_count": 151,
   "metadata": {},
   "outputs": [],
   "source": [
    "df = pd.read_parquet('AAPL.parquet')"
   ]
  },
  {
   "cell_type": "code",
   "execution_count": null,
   "metadata": {},
   "outputs": [],
   "source": [
    "df.corr()"
   ]
  },
  {
   "cell_type": "code",
   "execution_count": 152,
   "metadata": {},
   "outputs": [],
   "source": [
    "datetime = df['BarDateTime'].dt.tz_localize(None)"
   ]
  },
  {
   "cell_type": "code",
   "execution_count": 153,
   "metadata": {},
   "outputs": [],
   "source": [
    "hour = df['BarDateTime'].dt.hour\n",
    "df['Hour'] = hour"
   ]
  },
  {
   "cell_type": "code",
   "execution_count": 154,
   "metadata": {},
   "outputs": [],
   "source": [
    "del df['BarDateTime']\n",
    "df['BarDateTime'] = datetime"
   ]
  },
  {
   "cell_type": "code",
   "execution_count": 58,
   "metadata": {},
   "outputs": [
    {
     "data": {
      "text/plain": [
       "Index(['TradeDate', 'Ticker', 'SecId', 'OpenBarTimeOffset', 'OpenBidPrice',\n",
       "       'OpenBidSize', 'OpenAskPrice', 'OpenAskSize', 'FirstTradeTimeOffset',\n",
       "       'FirstTradePrice', 'FirstTradeSize', 'HighBidTimeOffset',\n",
       "       'HighBidPrice', 'HighBidSize', 'HighAskTimeOffset', 'HighAskPrice',\n",
       "       'HighAskSize', 'HighTradeTimeOffset', 'HighTradePrice', 'HighTradeSize',\n",
       "       'LowBidTimeOffset', 'LowBidPrice', 'LowBidSize', 'LowAskTimeOffset',\n",
       "       'LowAskPrice', 'LowAskSize', 'LowTradeTimeOffset', 'LowTradePrice',\n",
       "       'LowTradeSize', 'CloseBarTimeOffset', 'CloseBidPrice', 'CloseBidSize',\n",
       "       'CloseAskPrice', 'CloseAskSize', 'LastTradeTimeOffset',\n",
       "       'LastTradePrice', 'LastTradeSize', 'MinSpread', 'MaxSpread',\n",
       "       'CancelSize', 'VolumeWeightPrice', 'NBBOQuoteCount', 'TradeAtBid',\n",
       "       'TradeAtBidMid', 'TradeAtMid', 'TradeAtMidAsk', 'TradeAtAsk',\n",
       "       'TradeAtCrossOrLocked', 'Volume', 'TotalTrades', 'FinraVolume',\n",
       "       'FinraVolumeWeightPrice', 'UptickVolume', 'DowntickVolume',\n",
       "       'RepeatUptickVolume', 'RepeatDowntickVolume', 'UnknownTickVolume',\n",
       "       'TradeToMidVolWeight', 'TradeToMidVolWeightRelative', 'TimeWeightBid',\n",
       "       'TimeWeightAsk', 'Hour', 'Spread', 'Returns', 'RVI',\n",
       "       'Volatility_StDev6_CloseTrade', 'Volatility_StDev12_CloseTrade',\n",
       "       'Volatility_StDev20_CloseTrade', 'Volatility_StDev30_CloseTrade',\n",
       "       'Volatility_StDev50_CloseTrade', 'Volatility_StDev6_Spread',\n",
       "       'Volatility_StDev12_Spread', 'Volatility_StDev20_Spread',\n",
       "       'Volatility_StDev30_Spread', 'Volatility_StDev50_Spread',\n",
       "       'Volatility_StDev6_Volume', 'Volatility_StDev12_Volume',\n",
       "       'Volatility_StDev20_Volume', 'Volatility_StDev30_Volume',\n",
       "       'Volatility_StDev50_Volume', 'Volatility_StDev6_Returns',\n",
       "       'Volatility_StDev12_Returns', 'Volatility_StDev20_Returns',\n",
       "       'Volatility_StDev30_Returns', 'Volatility_StDev50_Returns'],\n",
       "      dtype='object')"
      ]
     },
     "execution_count": 58,
     "metadata": {},
     "output_type": "execute_result"
    }
   ],
   "source": [
    "df.columns"
   ]
  },
  {
   "cell_type": "code",
   "execution_count": 155,
   "metadata": {},
   "outputs": [],
   "source": [
    "df = df.drop(['TradeDate',\n",
    "              'Ticker',\n",
    "               'SecId',\n",
    "               'OpenBarTimeOffset',\n",
    "               'FirstTradeTimeOffset',\n",
    "               'HighBidTimeOffset',\n",
    "               'HighAskTimeOffset',\n",
    "               'HighTradeTimeOffset',\n",
    "               'LowTradeTimeOffset',\n",
    "               'LowBidTimeOffset',\n",
    "               'LowAskTimeOffset',\n",
    "               'CloseBarTimeOffset',\n",
    "               'LastTradeTimeOffset'],\n",
    "               axis=1)"
   ]
  },
  {
   "cell_type": "code",
   "execution_count": 156,
   "metadata": {},
   "outputs": [],
   "source": [
    "df.set_index(['BarDateTime'], inplace=True)"
   ]
  },
  {
   "cell_type": "code",
   "execution_count": 157,
   "metadata": {},
   "outputs": [
    {
     "data": {
      "text/html": [
       "<div>\n",
       "<style scoped>\n",
       "    .dataframe tbody tr th:only-of-type {\n",
       "        vertical-align: middle;\n",
       "    }\n",
       "\n",
       "    .dataframe tbody tr th {\n",
       "        vertical-align: top;\n",
       "    }\n",
       "\n",
       "    .dataframe thead th {\n",
       "        text-align: right;\n",
       "    }\n",
       "</style>\n",
       "<table border=\"1\" class=\"dataframe\">\n",
       "  <thead>\n",
       "    <tr style=\"text-align: right;\">\n",
       "      <th></th>\n",
       "      <th>OpenBidPrice</th>\n",
       "      <th>OpenBidSize</th>\n",
       "      <th>OpenAskPrice</th>\n",
       "      <th>OpenAskSize</th>\n",
       "      <th>FirstTradePrice</th>\n",
       "      <th>FirstTradeSize</th>\n",
       "      <th>HighBidPrice</th>\n",
       "      <th>HighBidSize</th>\n",
       "      <th>HighAskPrice</th>\n",
       "      <th>HighAskSize</th>\n",
       "      <th>...</th>\n",
       "      <th>UptickVolume</th>\n",
       "      <th>DowntickVolume</th>\n",
       "      <th>RepeatUptickVolume</th>\n",
       "      <th>RepeatDowntickVolume</th>\n",
       "      <th>UnknownTickVolume</th>\n",
       "      <th>TradeToMidVolWeight</th>\n",
       "      <th>TradeToMidVolWeightRelative</th>\n",
       "      <th>TimeWeightBid</th>\n",
       "      <th>TimeWeightAsk</th>\n",
       "      <th>Hour</th>\n",
       "    </tr>\n",
       "    <tr>\n",
       "      <th>BarDateTime</th>\n",
       "      <th></th>\n",
       "      <th></th>\n",
       "      <th></th>\n",
       "      <th></th>\n",
       "      <th></th>\n",
       "      <th></th>\n",
       "      <th></th>\n",
       "      <th></th>\n",
       "      <th></th>\n",
       "      <th></th>\n",
       "      <th></th>\n",
       "      <th></th>\n",
       "      <th></th>\n",
       "      <th></th>\n",
       "      <th></th>\n",
       "      <th></th>\n",
       "      <th></th>\n",
       "      <th></th>\n",
       "      <th></th>\n",
       "      <th></th>\n",
       "      <th></th>\n",
       "    </tr>\n",
       "  </thead>\n",
       "  <tbody>\n",
       "    <tr>\n",
       "      <th>2017-12-01 04:00:00</th>\n",
       "      <td>0.00</td>\n",
       "      <td>0</td>\n",
       "      <td>0.00</td>\n",
       "      <td>0</td>\n",
       "      <td>171.6700</td>\n",
       "      <td>1</td>\n",
       "      <td>171.00</td>\n",
       "      <td>200</td>\n",
       "      <td>180.00</td>\n",
       "      <td>100</td>\n",
       "      <td>...</td>\n",
       "      <td>1</td>\n",
       "      <td>0</td>\n",
       "      <td>0</td>\n",
       "      <td>0</td>\n",
       "      <td>1</td>\n",
       "      <td>26.00000</td>\n",
       "      <td>0.27368</td>\n",
       "      <td>170.96105</td>\n",
       "      <td>171.95013</td>\n",
       "      <td>4</td>\n",
       "    </tr>\n",
       "    <tr>\n",
       "      <th>2017-12-01 04:01:00</th>\n",
       "      <td>170.95</td>\n",
       "      <td>200</td>\n",
       "      <td>171.95</td>\n",
       "      <td>500</td>\n",
       "      <td>171.5600</td>\n",
       "      <td>1</td>\n",
       "      <td>170.95</td>\n",
       "      <td>200</td>\n",
       "      <td>171.95</td>\n",
       "      <td>500</td>\n",
       "      <td>...</td>\n",
       "      <td>0</td>\n",
       "      <td>172</td>\n",
       "      <td>0</td>\n",
       "      <td>28</td>\n",
       "      <td>0</td>\n",
       "      <td>-28.47500</td>\n",
       "      <td>-0.44492</td>\n",
       "      <td>170.94881</td>\n",
       "      <td>171.71315</td>\n",
       "      <td>4</td>\n",
       "    </tr>\n",
       "    <tr>\n",
       "      <th>2017-12-01 04:02:00</th>\n",
       "      <td>170.95</td>\n",
       "      <td>100</td>\n",
       "      <td>171.59</td>\n",
       "      <td>300</td>\n",
       "      <td>171.0500</td>\n",
       "      <td>56</td>\n",
       "      <td>171.00</td>\n",
       "      <td>100</td>\n",
       "      <td>171.80</td>\n",
       "      <td>200</td>\n",
       "      <td>...</td>\n",
       "      <td>58</td>\n",
       "      <td>194</td>\n",
       "      <td>0</td>\n",
       "      <td>50</td>\n",
       "      <td>0</td>\n",
       "      <td>-19.49669</td>\n",
       "      <td>-0.25615</td>\n",
       "      <td>170.65635</td>\n",
       "      <td>171.59012</td>\n",
       "      <td>4</td>\n",
       "    </tr>\n",
       "    <tr>\n",
       "      <th>2017-12-01 04:03:00</th>\n",
       "      <td>170.90</td>\n",
       "      <td>400</td>\n",
       "      <td>171.59</td>\n",
       "      <td>300</td>\n",
       "      <td>170.9700</td>\n",
       "      <td>5</td>\n",
       "      <td>170.90</td>\n",
       "      <td>400</td>\n",
       "      <td>171.59</td>\n",
       "      <td>300</td>\n",
       "      <td>...</td>\n",
       "      <td>5</td>\n",
       "      <td>95</td>\n",
       "      <td>0</td>\n",
       "      <td>0</td>\n",
       "      <td>0</td>\n",
       "      <td>-41.39000</td>\n",
       "      <td>-0.40578</td>\n",
       "      <td>170.57965</td>\n",
       "      <td>171.59000</td>\n",
       "      <td>4</td>\n",
       "    </tr>\n",
       "    <tr>\n",
       "      <th>2017-12-01 04:04:00</th>\n",
       "      <td>170.57</td>\n",
       "      <td>1000</td>\n",
       "      <td>171.59</td>\n",
       "      <td>300</td>\n",
       "      <td>0.0000</td>\n",
       "      <td>0</td>\n",
       "      <td>170.60</td>\n",
       "      <td>200</td>\n",
       "      <td>171.59</td>\n",
       "      <td>300</td>\n",
       "      <td>...</td>\n",
       "      <td>0</td>\n",
       "      <td>0</td>\n",
       "      <td>0</td>\n",
       "      <td>0</td>\n",
       "      <td>0</td>\n",
       "      <td>0.00000</td>\n",
       "      <td>0.00000</td>\n",
       "      <td>170.59260</td>\n",
       "      <td>171.53966</td>\n",
       "      <td>4</td>\n",
       "    </tr>\n",
       "    <tr>\n",
       "      <th>...</th>\n",
       "      <td>...</td>\n",
       "      <td>...</td>\n",
       "      <td>...</td>\n",
       "      <td>...</td>\n",
       "      <td>...</td>\n",
       "      <td>...</td>\n",
       "      <td>...</td>\n",
       "      <td>...</td>\n",
       "      <td>...</td>\n",
       "      <td>...</td>\n",
       "      <td>...</td>\n",
       "      <td>...</td>\n",
       "      <td>...</td>\n",
       "      <td>...</td>\n",
       "      <td>...</td>\n",
       "      <td>...</td>\n",
       "      <td>...</td>\n",
       "      <td>...</td>\n",
       "      <td>...</td>\n",
       "      <td>...</td>\n",
       "      <td>...</td>\n",
       "    </tr>\n",
       "    <tr>\n",
       "      <th>2022-06-21 19:55:00</th>\n",
       "      <td>135.63</td>\n",
       "      <td>1000</td>\n",
       "      <td>135.66</td>\n",
       "      <td>100</td>\n",
       "      <td>135.6500</td>\n",
       "      <td>20</td>\n",
       "      <td>135.64</td>\n",
       "      <td>100</td>\n",
       "      <td>135.66</td>\n",
       "      <td>100</td>\n",
       "      <td>...</td>\n",
       "      <td>31</td>\n",
       "      <td>350</td>\n",
       "      <td>6</td>\n",
       "      <td>54</td>\n",
       "      <td>0</td>\n",
       "      <td>-0.29688</td>\n",
       "      <td>-0.09896</td>\n",
       "      <td>135.63071</td>\n",
       "      <td>135.66000</td>\n",
       "      <td>19</td>\n",
       "    </tr>\n",
       "    <tr>\n",
       "      <th>2022-06-21 19:56:00</th>\n",
       "      <td>135.64</td>\n",
       "      <td>100</td>\n",
       "      <td>135.66</td>\n",
       "      <td>100</td>\n",
       "      <td>135.6500</td>\n",
       "      <td>1</td>\n",
       "      <td>135.64</td>\n",
       "      <td>100</td>\n",
       "      <td>135.70</td>\n",
       "      <td>100</td>\n",
       "      <td>...</td>\n",
       "      <td>786</td>\n",
       "      <td>39</td>\n",
       "      <td>146</td>\n",
       "      <td>1</td>\n",
       "      <td>0</td>\n",
       "      <td>0.67275</td>\n",
       "      <td>0.16819</td>\n",
       "      <td>135.64000</td>\n",
       "      <td>135.69786</td>\n",
       "      <td>19</td>\n",
       "    </tr>\n",
       "    <tr>\n",
       "      <th>2022-06-21 19:57:00</th>\n",
       "      <td>135.64</td>\n",
       "      <td>500</td>\n",
       "      <td>135.70</td>\n",
       "      <td>100</td>\n",
       "      <td>135.6900</td>\n",
       "      <td>10</td>\n",
       "      <td>135.67</td>\n",
       "      <td>1000</td>\n",
       "      <td>135.72</td>\n",
       "      <td>200</td>\n",
       "      <td>...</td>\n",
       "      <td>25</td>\n",
       "      <td>129</td>\n",
       "      <td>118</td>\n",
       "      <td>1339</td>\n",
       "      <td>0</td>\n",
       "      <td>-1.67012</td>\n",
       "      <td>-0.34628</td>\n",
       "      <td>135.66263</td>\n",
       "      <td>135.70435</td>\n",
       "      <td>19</td>\n",
       "    </tr>\n",
       "    <tr>\n",
       "      <th>2022-06-21 19:58:00</th>\n",
       "      <td>135.64</td>\n",
       "      <td>500</td>\n",
       "      <td>135.70</td>\n",
       "      <td>2500</td>\n",
       "      <td>135.7000</td>\n",
       "      <td>50</td>\n",
       "      <td>135.65</td>\n",
       "      <td>100</td>\n",
       "      <td>135.70</td>\n",
       "      <td>2500</td>\n",
       "      <td>...</td>\n",
       "      <td>111</td>\n",
       "      <td>345</td>\n",
       "      <td>51</td>\n",
       "      <td>60</td>\n",
       "      <td>0</td>\n",
       "      <td>-0.98707</td>\n",
       "      <td>-0.29077</td>\n",
       "      <td>135.64042</td>\n",
       "      <td>135.68368</td>\n",
       "      <td>19</td>\n",
       "    </tr>\n",
       "    <tr>\n",
       "      <th>2022-06-21 19:59:00</th>\n",
       "      <td>135.63</td>\n",
       "      <td>600</td>\n",
       "      <td>135.66</td>\n",
       "      <td>100</td>\n",
       "      <td>135.6600</td>\n",
       "      <td>1</td>\n",
       "      <td>135.63</td>\n",
       "      <td>600</td>\n",
       "      <td>135.72</td>\n",
       "      <td>200</td>\n",
       "      <td>...</td>\n",
       "      <td>3258</td>\n",
       "      <td>2913</td>\n",
       "      <td>111</td>\n",
       "      <td>8589</td>\n",
       "      <td>0</td>\n",
       "      <td>-2.99648</td>\n",
       "      <td>-0.48525</td>\n",
       "      <td>135.62224</td>\n",
       "      <td>135.66707</td>\n",
       "      <td>19</td>\n",
       "    </tr>\n",
       "  </tbody>\n",
       "</table>\n",
       "<p>2482081 rows × 49 columns</p>\n",
       "</div>"
      ],
      "text/plain": [
       "                    OpenBidPrice  OpenBidSize OpenAskPrice  OpenAskSize  \\\n",
       "BarDateTime                                                               \n",
       "2017-12-01 04:00:00         0.00            0         0.00            0   \n",
       "2017-12-01 04:01:00       170.95          200       171.95          500   \n",
       "2017-12-01 04:02:00       170.95          100       171.59          300   \n",
       "2017-12-01 04:03:00       170.90          400       171.59          300   \n",
       "2017-12-01 04:04:00       170.57         1000       171.59          300   \n",
       "...                          ...          ...          ...          ...   \n",
       "2022-06-21 19:55:00       135.63         1000       135.66          100   \n",
       "2022-06-21 19:56:00       135.64          100       135.66          100   \n",
       "2022-06-21 19:57:00       135.64          500       135.70          100   \n",
       "2022-06-21 19:58:00       135.64          500       135.70         2500   \n",
       "2022-06-21 19:59:00       135.63          600       135.66          100   \n",
       "\n",
       "                    FirstTradePrice  FirstTradeSize HighBidPrice  HighBidSize  \\\n",
       "BarDateTime                                                                     \n",
       "2017-12-01 04:00:00        171.6700               1       171.00          200   \n",
       "2017-12-01 04:01:00        171.5600               1       170.95          200   \n",
       "2017-12-01 04:02:00        171.0500              56       171.00          100   \n",
       "2017-12-01 04:03:00        170.9700               5       170.90          400   \n",
       "2017-12-01 04:04:00          0.0000               0       170.60          200   \n",
       "...                             ...             ...          ...          ...   \n",
       "2022-06-21 19:55:00        135.6500              20       135.64          100   \n",
       "2022-06-21 19:56:00        135.6500               1       135.64          100   \n",
       "2022-06-21 19:57:00        135.6900              10       135.67         1000   \n",
       "2022-06-21 19:58:00        135.7000              50       135.65          100   \n",
       "2022-06-21 19:59:00        135.6600               1       135.63          600   \n",
       "\n",
       "                    HighAskPrice  HighAskSize  ... UptickVolume  \\\n",
       "BarDateTime                                    ...                \n",
       "2017-12-01 04:00:00       180.00          100  ...            1   \n",
       "2017-12-01 04:01:00       171.95          500  ...            0   \n",
       "2017-12-01 04:02:00       171.80          200  ...           58   \n",
       "2017-12-01 04:03:00       171.59          300  ...            5   \n",
       "2017-12-01 04:04:00       171.59          300  ...            0   \n",
       "...                          ...          ...  ...          ...   \n",
       "2022-06-21 19:55:00       135.66          100  ...           31   \n",
       "2022-06-21 19:56:00       135.70          100  ...          786   \n",
       "2022-06-21 19:57:00       135.72          200  ...           25   \n",
       "2022-06-21 19:58:00       135.70         2500  ...          111   \n",
       "2022-06-21 19:59:00       135.72          200  ...         3258   \n",
       "\n",
       "                     DowntickVolume RepeatUptickVolume  RepeatDowntickVolume  \\\n",
       "BarDateTime                                                                    \n",
       "2017-12-01 04:00:00               0                  0                     0   \n",
       "2017-12-01 04:01:00             172                  0                    28   \n",
       "2017-12-01 04:02:00             194                  0                    50   \n",
       "2017-12-01 04:03:00              95                  0                     0   \n",
       "2017-12-01 04:04:00               0                  0                     0   \n",
       "...                             ...                ...                   ...   \n",
       "2022-06-21 19:55:00             350                  6                    54   \n",
       "2022-06-21 19:56:00              39                146                     1   \n",
       "2022-06-21 19:57:00             129                118                  1339   \n",
       "2022-06-21 19:58:00             345                 51                    60   \n",
       "2022-06-21 19:59:00            2913                111                  8589   \n",
       "\n",
       "                    UnknownTickVolume  TradeToMidVolWeight  \\\n",
       "BarDateTime                                                  \n",
       "2017-12-01 04:00:00                 1             26.00000   \n",
       "2017-12-01 04:01:00                 0            -28.47500   \n",
       "2017-12-01 04:02:00                 0            -19.49669   \n",
       "2017-12-01 04:03:00                 0            -41.39000   \n",
       "2017-12-01 04:04:00                 0              0.00000   \n",
       "...                               ...                  ...   \n",
       "2022-06-21 19:55:00                 0             -0.29688   \n",
       "2022-06-21 19:56:00                 0              0.67275   \n",
       "2022-06-21 19:57:00                 0             -1.67012   \n",
       "2022-06-21 19:58:00                 0             -0.98707   \n",
       "2022-06-21 19:59:00                 0             -2.99648   \n",
       "\n",
       "                    TradeToMidVolWeightRelative  TimeWeightBid TimeWeightAsk  \\\n",
       "BarDateTime                                                                    \n",
       "2017-12-01 04:00:00                     0.27368      170.96105     171.95013   \n",
       "2017-12-01 04:01:00                    -0.44492      170.94881     171.71315   \n",
       "2017-12-01 04:02:00                    -0.25615      170.65635     171.59012   \n",
       "2017-12-01 04:03:00                    -0.40578      170.57965     171.59000   \n",
       "2017-12-01 04:04:00                     0.00000      170.59260     171.53966   \n",
       "...                                         ...            ...           ...   \n",
       "2022-06-21 19:55:00                    -0.09896      135.63071     135.66000   \n",
       "2022-06-21 19:56:00                     0.16819      135.64000     135.69786   \n",
       "2022-06-21 19:57:00                    -0.34628      135.66263     135.70435   \n",
       "2022-06-21 19:58:00                    -0.29077      135.64042     135.68368   \n",
       "2022-06-21 19:59:00                    -0.48525      135.62224     135.66707   \n",
       "\n",
       "                     Hour  \n",
       "BarDateTime                \n",
       "2017-12-01 04:00:00     4  \n",
       "2017-12-01 04:01:00     4  \n",
       "2017-12-01 04:02:00     4  \n",
       "2017-12-01 04:03:00     4  \n",
       "2017-12-01 04:04:00     4  \n",
       "...                   ...  \n",
       "2022-06-21 19:55:00    19  \n",
       "2022-06-21 19:56:00    19  \n",
       "2022-06-21 19:57:00    19  \n",
       "2022-06-21 19:58:00    19  \n",
       "2022-06-21 19:59:00    19  \n",
       "\n",
       "[2482081 rows x 49 columns]"
      ]
     },
     "execution_count": 157,
     "metadata": {},
     "output_type": "execute_result"
    }
   ],
   "source": [
    "df.fillna(method='ffill')"
   ]
  },
  {
   "cell_type": "code",
   "execution_count": 158,
   "metadata": {},
   "outputs": [],
   "source": [
    "df = df[(df.Hour > 8) & (df.Hour < 16)]"
   ]
  },
  {
   "cell_type": "code",
   "execution_count": 159,
   "metadata": {},
   "outputs": [
    {
     "name": "stdout",
     "output_type": "stream",
     "text": [
      "OpenBidPrice                   False\n",
      "OpenBidSize                    False\n",
      "OpenAskPrice                   False\n",
      "OpenAskSize                    False\n",
      "FirstTradePrice                False\n",
      "FirstTradeSize                 False\n",
      "HighBidPrice                   False\n",
      "HighBidSize                    False\n",
      "HighAskPrice                   False\n",
      "HighAskSize                    False\n",
      "HighTradePrice                 False\n",
      "HighTradeSize                  False\n",
      "LowBidPrice                    False\n",
      "LowBidSize                     False\n",
      "LowAskPrice                    False\n",
      "LowAskSize                     False\n",
      "LowTradePrice                  False\n",
      "LowTradeSize                   False\n",
      "CloseBidPrice                  False\n",
      "CloseBidSize                   False\n",
      "CloseAskPrice                  False\n",
      "CloseAskSize                   False\n",
      "LastTradePrice                 False\n",
      "LastTradeSize                  False\n",
      "MinSpread                      False\n",
      "MaxSpread                      False\n",
      "CancelSize                     False\n",
      "VolumeWeightPrice              False\n",
      "NBBOQuoteCount                 False\n",
      "TradeAtBid                     False\n",
      "TradeAtBidMid                  False\n",
      "TradeAtMid                     False\n",
      "TradeAtMidAsk                  False\n",
      "TradeAtAsk                     False\n",
      "TradeAtCrossOrLocked           False\n",
      "Volume                         False\n",
      "TotalTrades                    False\n",
      "FinraVolume                    False\n",
      "FinraVolumeWeightPrice         False\n",
      "UptickVolume                   False\n",
      "DowntickVolume                 False\n",
      "RepeatUptickVolume             False\n",
      "RepeatDowntickVolume           False\n",
      "UnknownTickVolume              False\n",
      "TradeToMidVolWeight            False\n",
      "TradeToMidVolWeightRelative    False\n",
      "TimeWeightBid                  False\n",
      "TimeWeightAsk                  False\n",
      "Hour                           False\n",
      "dtype: bool\n"
     ]
    }
   ],
   "source": [
    "is_nan = df.isna().any()\n",
    "with pd.option_context('display.max_rows', None, 'display.max_columns', None):\n",
    "    print(is_nan)\n"
   ]
  },
  {
   "cell_type": "code",
   "execution_count": 107,
   "metadata": {},
   "outputs": [],
   "source": [
    "# df = df.notna()\n"
   ]
  },
  {
   "cell_type": "code",
   "execution_count": 108,
   "metadata": {},
   "outputs": [
    {
     "data": {
      "text/plain": [
       "0"
      ]
     },
     "execution_count": 108,
     "metadata": {},
     "output_type": "execute_result"
    }
   ],
   "source": [
    "# df.isnull().sum().sum()\n"
   ]
  },
  {
   "cell_type": "code",
   "execution_count": 129,
   "metadata": {},
   "outputs": [],
   "source": [
    "# df2 = df.dropna()"
   ]
  },
  {
   "cell_type": "code",
   "execution_count": null,
   "metadata": {},
   "outputs": [],
   "source": [
    "# df.to_csv('AAPL.csv')"
   ]
  },
  {
   "cell_type": "markdown",
   "metadata": {},
   "source": [
    "### Calculate Dataset Features"
   ]
  },
  {
   "cell_type": "markdown",
   "metadata": {},
   "source": [
    "##### Spread"
   ]
  },
  {
   "cell_type": "code",
   "execution_count": 160,
   "metadata": {},
   "outputs": [],
   "source": [
    "df['Spread'] = df.apply(lambda x: x['CloseAskPrice'] - x['CloseBidPrice'], axis=1)"
   ]
  },
  {
   "cell_type": "markdown",
   "metadata": {},
   "source": [
    "##### Returns"
   ]
  },
  {
   "cell_type": "code",
   "execution_count": 161,
   "metadata": {},
   "outputs": [],
   "source": [
    "# returns = (df.apply(lambda x: ((x.LastTradePrice - x.FirstTradePrice)/x.FirstTradePrice)))\n",
    "import decimal\n",
    "\n",
    "# df['Returns'] = df.apply(lambda x: (x['LastTradePrice'] - x['FirstTradePrice'])/x['FirstTradePrice'], axis=1)\n",
    "\n",
    "df['Returns'] = df.apply(lambda x:\n",
    "     (x['LastTradePrice'] - x['FirstTradePrice'])/x['FirstTradePrice'] if x['FirstTradePrice'] != 0\n",
    "     else decimal.Decimal('NaN'), axis=1)"
   ]
  },
  {
   "cell_type": "markdown",
   "metadata": {},
   "source": [
    "##### Relative Volatility Index (RVI)"
   ]
  },
  {
   "cell_type": "code",
   "execution_count": 128,
   "metadata": {},
   "outputs": [],
   "source": [
    "# df['RVI'] = df.apply(lambda x: ta.rvi(high = x['HighTradePrice'],\n",
    "#                                       low = x['LowTradePrice'],\n",
    "#                                       close = x['LastTradePrice'],\n",
    "#                                       length = 14, refined = False,\n",
    "#                                       thirds = False, mamode = 'sma')\n",
    "#                                       if x['FirstTradePrice'] or x['LowTradePrice'] or x['HighTradePrice'] != 0\n",
    "#                                       else decimal.Decimal('NaN'), axis=1)\n",
    "\n",
    "# df['RVI'] = rvi\n",
    "\n",
    "# del(rvi)"
   ]
  },
  {
   "cell_type": "markdown",
   "metadata": {},
   "source": [
    "##### Volatility of Closing Trade"
   ]
  },
  {
   "cell_type": "code",
   "execution_count": 134,
   "metadata": {},
   "outputs": [],
   "source": [
    "# df['Volatility_StDev6_CloseTrade'] = (df.apply(lambda x: ta.stdev(length=6, close = x['LastTradePrice']), axis=1))\n",
    "# df['Volatility_StDev12_CloseTrade'] = (df.apply(lambda x: ta.stdev(length=12, close = x['LastTradePrice']), axis=1))\n",
    "# df['Volatility_StDev20_CloseTrade'] = (df.apply(lambda x: ta.stdev(length=20, close = x['LastTradePrice']), axis=1))\n",
    "# df['Volatility_StDev30_CloseTrade'] = (df.apply(lambda x: ta.stdev(length=30, close = x['LastTradePrice']), axis=1))\n",
    "# df['Volatility_StDev50_CloseTrade'] = (df.apply(lambda x: ta.stdev(length=50, close = x['LastTradePrice']), axis=1))\n",
    "\n",
    "# # df['Volatility_StDev6_CloseTrade'] = stdev_closetrade_6\n",
    "# # df['Volatility_StDev12_CloseTrade'] = stdev_closetrade_12\n",
    "# # df['Volatility_StDev20_CloseTrade'] = stdev_closetrade_20\n",
    "# # df['Volatility_StDev30_CloseTrade'] = stdev_closetrade_30\n",
    "# # df['Volatility_StDev50_CloseTrade'] = stdev_closetrade_50\n",
    "\n",
    "# # del(stdev_closetrade_6)\n",
    "# # del(stdev_closetrade_12)\n",
    "# # del(stdev_closetrade_20)\n",
    "# # del(stdev_closetrade_30)\n",
    "# # del(stdev_closetrade_50)"
   ]
  },
  {
   "cell_type": "markdown",
   "metadata": {},
   "source": [
    "##### Volatility of Spread"
   ]
  },
  {
   "cell_type": "code",
   "execution_count": 133,
   "metadata": {},
   "outputs": [],
   "source": [
    "# df['Volatility_StDev6_Spread'] = (df.apply(lambda x: ta.stdev(length=6, close = x['Spread']), axis=1))\n",
    "# df['Volatility_StDev12_Spread'] = (df.apply(lambda x: ta.stdev(length=12, close = x['Spread']), axis=1))\n",
    "# df['Volatility_StDev20_Spread'] = (df.apply(lambda x: ta.stdev(length=20, close = x['Spread']), axis=1))\n",
    "# df['Volatility_StDev30_Spread'] = (df.apply(lambda x: ta.stdev(length=30, close = x['Spread']), axis=1))\n",
    "# df['Volatility_StDev50_Spread'] = (df.apply(lambda x: ta.stdev(length=50, close = x['Spread']), axis=1))\n",
    "\n",
    "# # df['Volatility_StDev6_Spread'] = stdev_spread_6\n",
    "# # df['Volatility_StDev12_Spread'] = stdev_spread_12\n",
    "# # df['Volatility_StDev20_Spread'] = stdev_spread_20\n",
    "# # df['Volatility_StDev30_Spread'] = stdev_spread_30\n",
    "# # df['Volatility_StDev50_Spread'] = stdev_spread_50\n",
    "\n",
    "# # del(stdev_spread_6)\n",
    "# # del(stdev_spread_12)\n",
    "# # del(stdev_spread_20)\n",
    "# # del(stdev_spread_30)\n",
    "# # del(stdev_spread_50)"
   ]
  },
  {
   "cell_type": "markdown",
   "metadata": {},
   "source": [
    "##### Volatility of Volume"
   ]
  },
  {
   "cell_type": "code",
   "execution_count": 135,
   "metadata": {},
   "outputs": [],
   "source": [
    "# df['Volatility_StDev6_Volume'] = (df.apply(lambda x: ta.stdev(length=6, close = x['Volume']), axis=1))\n",
    "# df['Volatility_StDev12_Volume'] = (df.apply(lambda x: ta.stdev(length=12, close = x['Volume']), axis=1))\n",
    "# df['Volatility_StDev20_Volume'] = (df.apply(lambda x: ta.stdev(length=20, close = x['Volume']), axis=1))\n",
    "# df['Volatility_StDev30_Volume'] = (df.apply(lambda x: ta.stdev(length=30, close = x['Volume']), axis=1))\n",
    "# df['Volatility_StDev50_Volume'] = (df.apply(lambda x: ta.stdev(length=50, close = x['Volume']), axis=1))\n",
    "\n",
    "# # df['Volatility_StDev6_Volume'] = stdev_volume_6\n",
    "# # df['Volatility_StDev12_Volume'] = stdev_volume_12\n",
    "# # df['Volatility_StDev20_Volume'] = stdev_volume_20\n",
    "# # df['Volatility_StDev30_Volume'] = stdev_volume_30\n",
    "# # df['Volatility_StDev50_Volume'] = stdev_volume_50\n",
    "\n",
    "# # del(stdev_volume_6)\n",
    "# # del(stdev_volume_12)\n",
    "# # del(stdev_volume_12)\n",
    "# # del(stdev_volume_30)\n",
    "# # del(stdev_volume_50)"
   ]
  },
  {
   "cell_type": "markdown",
   "metadata": {},
   "source": [
    "##### Volatility of Returns"
   ]
  },
  {
   "cell_type": "code",
   "execution_count": 136,
   "metadata": {},
   "outputs": [],
   "source": [
    "# df['Volatility_StDev6_Returns'] = (df.apply(lambda x: ta.stdev(length=6, close = x['Returns']), axis=1))\n",
    "# df['Volatility_StDev12_Returns'] = (df.apply(lambda x: ta.stdev(length=12, close = x['Returns']), axis=1))\n",
    "# df['Volatility_StDev20_Returns'] = (df.apply(lambda x: ta.stdev(length=20, close = x['Returns']), axis=1))\n",
    "# df['Volatility_StDev30_Returns'] = (df.apply(lambda x: ta.stdev(length=30, close = x['Returns']), axis=1))\n",
    "# df['Volatility_StDev50_Returns'] = (df.apply(lambda x: ta.stdev(length=50, close = x['Returns']), axis=1))\n",
    "\n",
    "# # df['Volatility_StDev6_Returns'] = stdev_returns_6\n",
    "# # df['Volatility_StDev12_Returns'] = stdev_returns_12\n",
    "# # df['Volatility_StDev20_Returns'] = stdev_returns_20\n",
    "# # df['Volatility_StDev30_Returns'] = stdev_returns_30\n",
    "# # df['Volatility_StDev50_Returns'] = stdev_returns_50\n",
    "\n",
    "# # del(stdev_returns_6)\n",
    "# # del(stdev_returns_12)\n",
    "# # del(stdev_returns_12)\n",
    "# # del(stdev_returns_30)\n",
    "# # del(stdev_returns_50)"
   ]
  },
  {
   "cell_type": "markdown",
   "metadata": {},
   "source": [
    "##### Lagged Spread"
   ]
  },
  {
   "cell_type": "code",
   "execution_count": 162,
   "metadata": {},
   "outputs": [],
   "source": [
    "df['Spread_Lag_1'] = df['Spread'].shift(+1)\n",
    "df['Spread_Lag_2'] = df['Spread'].shift(+2)\n",
    "df['Spread_Lag_3'] = df['Spread'].shift(+3)"
   ]
  },
  {
   "cell_type": "code",
   "execution_count": 141,
   "metadata": {},
   "outputs": [
    {
     "name": "stdout",
     "output_type": "stream",
     "text": [
      "OpenBidPrice                     False\n",
      "OpenBidSize                      False\n",
      "OpenAskPrice                     False\n",
      "OpenAskSize                      False\n",
      "FirstTradePrice                  False\n",
      "FirstTradeSize                   False\n",
      "HighBidPrice                     False\n",
      "HighBidSize                      False\n",
      "HighAskPrice                     False\n",
      "HighAskSize                      False\n",
      "HighTradePrice                   False\n",
      "HighTradeSize                    False\n",
      "LowBidPrice                      False\n",
      "LowBidSize                       False\n",
      "LowAskPrice                      False\n",
      "LowAskSize                       False\n",
      "LowTradePrice                    False\n",
      "LowTradeSize                     False\n",
      "CloseBidPrice                    False\n",
      "CloseBidSize                     False\n",
      "CloseAskPrice                    False\n",
      "CloseAskSize                     False\n",
      "LastTradePrice                   False\n",
      "LastTradeSize                    False\n",
      "MinSpread                        False\n",
      "MaxSpread                        False\n",
      "CancelSize                       False\n",
      "VolumeWeightPrice                False\n",
      "NBBOQuoteCount                   False\n",
      "TradeAtBid                       False\n",
      "TradeAtBidMid                    False\n",
      "TradeAtMid                       False\n",
      "TradeAtMidAsk                    False\n",
      "TradeAtAsk                       False\n",
      "TradeAtCrossOrLocked             False\n",
      "Volume                           False\n",
      "TotalTrades                      False\n",
      "FinraVolume                      False\n",
      "FinraVolumeWeightPrice           False\n",
      "UptickVolume                     False\n",
      "DowntickVolume                   False\n",
      "RepeatUptickVolume               False\n",
      "RepeatDowntickVolume             False\n",
      "UnknownTickVolume                False\n",
      "TradeToMidVolWeight              False\n",
      "TradeToMidVolWeightRelative      False\n",
      "TimeWeightBid                    False\n",
      "TimeWeightAsk                    False\n",
      "Hour                             False\n",
      "Spread                           False\n",
      "Returns                           True\n",
      "RVI                               True\n",
      "Volatility_StDev6_Spread          True\n",
      "Volatility_StDev12_Spread         True\n",
      "Volatility_StDev20_Spread         True\n",
      "Volatility_StDev30_Spread         True\n",
      "Volatility_StDev50_Spread         True\n",
      "Volatility_StDev6_CloseTrade      True\n",
      "Volatility_StDev12_CloseTrade     True\n",
      "Volatility_StDev20_CloseTrade     True\n",
      "Volatility_StDev30_CloseTrade     True\n",
      "Volatility_StDev50_CloseTrade     True\n",
      "Volatility_StDev6_Volume          True\n",
      "Volatility_StDev12_Volume         True\n",
      "Volatility_StDev20_Volume         True\n",
      "Volatility_StDev30_Volume         True\n",
      "Volatility_StDev50_Volume         True\n",
      "Volatility_StDev6_Returns         True\n",
      "Volatility_StDev12_Returns        True\n",
      "Volatility_StDev20_Returns        True\n",
      "Volatility_StDev30_Returns        True\n",
      "Volatility_StDev50_Returns        True\n",
      "Spread_Lag_1                      True\n",
      "Spread_Lag_2                      True\n",
      "Spread_Lag_3                      True\n",
      "dtype: bool\n"
     ]
    }
   ],
   "source": [
    "is_nan = df.isna().any()\n",
    "with pd.option_context('display.max_rows', None, 'display.max_columns', None):\n",
    "    print(is_nan)"
   ]
  },
  {
   "cell_type": "code",
   "execution_count": 173,
   "metadata": {},
   "outputs": [],
   "source": [
    "df = df[df['Spread_Lag_3'].notna()]\n",
    "df = df[df['Returns'].notna()]"
   ]
  },
  {
   "cell_type": "code",
   "execution_count": 174,
   "metadata": {},
   "outputs": [
    {
     "name": "stdout",
     "output_type": "stream",
     "text": [
      "OpenBidPrice                   False\n",
      "OpenBidSize                    False\n",
      "OpenAskPrice                   False\n",
      "OpenAskSize                    False\n",
      "FirstTradePrice                False\n",
      "FirstTradeSize                 False\n",
      "HighBidPrice                   False\n",
      "HighBidSize                    False\n",
      "HighAskPrice                   False\n",
      "HighAskSize                    False\n",
      "HighTradePrice                 False\n",
      "HighTradeSize                  False\n",
      "LowBidPrice                    False\n",
      "LowBidSize                     False\n",
      "LowAskPrice                    False\n",
      "LowAskSize                     False\n",
      "LowTradePrice                  False\n",
      "LowTradeSize                   False\n",
      "CloseBidPrice                  False\n",
      "CloseBidSize                   False\n",
      "CloseAskPrice                  False\n",
      "CloseAskSize                   False\n",
      "LastTradePrice                 False\n",
      "LastTradeSize                  False\n",
      "MinSpread                      False\n",
      "MaxSpread                      False\n",
      "CancelSize                     False\n",
      "VolumeWeightPrice              False\n",
      "NBBOQuoteCount                 False\n",
      "TradeAtBid                     False\n",
      "TradeAtBidMid                  False\n",
      "TradeAtMid                     False\n",
      "TradeAtMidAsk                  False\n",
      "TradeAtAsk                     False\n",
      "TradeAtCrossOrLocked           False\n",
      "Volume                         False\n",
      "TotalTrades                    False\n",
      "FinraVolume                    False\n",
      "FinraVolumeWeightPrice         False\n",
      "UptickVolume                   False\n",
      "DowntickVolume                 False\n",
      "RepeatUptickVolume             False\n",
      "RepeatDowntickVolume           False\n",
      "UnknownTickVolume              False\n",
      "TradeToMidVolWeight            False\n",
      "TradeToMidVolWeightRelative    False\n",
      "TimeWeightBid                  False\n",
      "TimeWeightAsk                  False\n",
      "Hour                           False\n",
      "Spread                         False\n",
      "Returns                        False\n",
      "Spread_Lag_1                   False\n",
      "Spread_Lag_2                   False\n",
      "Spread_Lag_3                   False\n",
      "dtype: bool\n"
     ]
    }
   ],
   "source": [
    "is_nan = df.isna().any()\n",
    "with pd.option_context('display.max_rows', None, 'display.max_columns', None):\n",
    "    print(is_nan)"
   ]
  },
  {
   "cell_type": "markdown",
   "metadata": {},
   "source": [
    "### Plot Data"
   ]
  },
  {
   "cell_type": "code",
   "execution_count": 175,
   "metadata": {},
   "outputs": [
    {
     "data": {
      "text/plain": [
       "<AxesSubplot: xlabel='BarDateTime'>"
      ]
     },
     "execution_count": 175,
     "metadata": {},
     "output_type": "execute_result"
    },
    {
     "data": {
      "image/png": "[encoded data removed]",
      "text/plain": [
       "<Figure size 432x288 with 1 Axes>"
      ]
     },
     "metadata": {
      "needs_background": "light"
     },
     "output_type": "display_data"
    }
   ],
   "source": [
    "spread = pd.to_numeric(df['Spread'])\n",
    "spread.plot()"
   ]
  },
  {
   "cell_type": "markdown",
   "metadata": {},
   "source": [
    "### Reshape Data Set for Machine Learning"
   ]
  },
  {
   "cell_type": "code",
   "execution_count": 72,
   "metadata": {},
   "outputs": [],
   "source": [
    "# train = df.loc[:'2022-06-21 15:59:00']\n",
    "# test = df.loc['2022-02-01 9:00:00':]"
   ]
  },
  {
   "cell_type": "code",
   "execution_count": 73,
   "metadata": {},
   "outputs": [],
   "source": [
    "# from sklearn.preprocessing import MinMaxScaler\n",
    "# scaler = MinMaxScaler()"
   ]
  },
  {
   "cell_type": "code",
   "execution_count": 74,
   "metadata": {},
   "outputs": [
    {
     "name": "stderr",
     "output_type": "stream",
     "text": [
      "C:\\Users\\angel\\AppData\\Local\\Packages\\PythonSoftwareFoundation.Python.3.9_qbz5n2kfra8p0\\LocalCache\\local-packages\\Python39\\site-packages\\sklearn\\preprocessing\\_data.py:464: RuntimeWarning: All-NaN slice encountered\n",
      "  data_min = np.nanmin(X, axis=0)\n",
      "C:\\Users\\angel\\AppData\\Local\\Packages\\PythonSoftwareFoundation.Python.3.9_qbz5n2kfra8p0\\LocalCache\\local-packages\\Python39\\site-packages\\sklearn\\preprocessing\\_data.py:465: RuntimeWarning: All-NaN slice encountered\n",
      "  data_max = np.nanmax(X, axis=0)\n"
     ]
    }
   ],
   "source": [
    "scaler.fit(train)\n",
    "scaled_train = scaler.transform(train)\n",
    "scaled_test = scaler.transform(test)"
   ]
  },
  {
   "cell_type": "markdown",
   "metadata": {},
   "source": [
    "### Cross Validation Using Sliding Window"
   ]
  },
  {
   "cell_type": "code",
   "execution_count": 75,
   "metadata": {},
   "outputs": [
    {
     "ename": "ModuleNotFoundError",
     "evalue": "No module named 'tensorflow.python'",
     "output_type": "error",
     "traceback": [
      "\u001b[1;31m---------------------------------------------------------------------------\u001b[0m",
      "\u001b[1;31mModuleNotFoundError\u001b[0m                       Traceback (most recent call last)",
      "\u001b[1;32m~\\AppData\\Local\\Temp/ipykernel_28012/2716682377.py\u001b[0m in \u001b[0;36m<module>\u001b[1;34m\u001b[0m\n\u001b[1;32m----> 1\u001b[1;33m \u001b[1;32mfrom\u001b[0m \u001b[0mkeras\u001b[0m\u001b[1;33m.\u001b[0m\u001b[0mpreprocessing\u001b[0m\u001b[1;33m.\u001b[0m\u001b[0msequence\u001b[0m \u001b[1;32mimport\u001b[0m \u001b[0mTimeseriesGenerator\u001b[0m\u001b[1;33m\u001b[0m\u001b[1;33m\u001b[0m\u001b[0m\n\u001b[0m\u001b[0;32m      2\u001b[0m \u001b[1;33m\u001b[0m\u001b[0m\n\u001b[0;32m      3\u001b[0m \u001b[0mn_input\u001b[0m \u001b[1;33m=\u001b[0m \u001b[1;36m3\u001b[0m\u001b[1;33m\u001b[0m\u001b[1;33m\u001b[0m\u001b[0m\n\u001b[0;32m      4\u001b[0m \u001b[0mn_features\u001b[0m \u001b[1;33m=\u001b[0m \u001b[1;36m1\u001b[0m\u001b[1;33m\u001b[0m\u001b[1;33m\u001b[0m\u001b[0m\n\u001b[0;32m      5\u001b[0m \u001b[0mgenerator\u001b[0m \u001b[1;33m=\u001b[0m \u001b[0mTimeseriesGenerator\u001b[0m\u001b[1;33m(\u001b[0m\u001b[0mscaled_train\u001b[0m\u001b[1;33m,\u001b[0m \u001b[0mscaled_train\u001b[0m\u001b[1;33m,\u001b[0m \u001b[0mlength\u001b[0m\u001b[1;33m=\u001b[0m\u001b[0mn_input\u001b[0m\u001b[1;33m,\u001b[0m \u001b[0mbatch_size\u001b[0m\u001b[1;33m=\u001b[0m\u001b[1;36m1\u001b[0m\u001b[1;33m)\u001b[0m\u001b[1;33m\u001b[0m\u001b[1;33m\u001b[0m\u001b[0m\n",
      "\u001b[1;32m~\\AppData\\Local\\Packages\\PythonSoftwareFoundation.Python.3.9_qbz5n2kfra8p0\\LocalCache\\local-packages\\Python39\\site-packages\\keras\\__init__.py\u001b[0m in \u001b[0;36m<module>\u001b[1;34m\u001b[0m\n\u001b[0;32m     19\u001b[0m \"\"\"\n\u001b[0;32m     20\u001b[0m \u001b[1;32mfrom\u001b[0m \u001b[0mkeras\u001b[0m \u001b[1;32mimport\u001b[0m \u001b[0mdistribute\u001b[0m\u001b[1;33m\u001b[0m\u001b[1;33m\u001b[0m\u001b[0m\n\u001b[1;32m---> 21\u001b[1;33m \u001b[1;32mfrom\u001b[0m \u001b[0mkeras\u001b[0m \u001b[1;32mimport\u001b[0m \u001b[0mmodels\u001b[0m\u001b[1;33m\u001b[0m\u001b[1;33m\u001b[0m\u001b[0m\n\u001b[0m\u001b[0;32m     22\u001b[0m \u001b[1;32mfrom\u001b[0m \u001b[0mkeras\u001b[0m\u001b[1;33m.\u001b[0m\u001b[0mengine\u001b[0m\u001b[1;33m.\u001b[0m\u001b[0minput_layer\u001b[0m \u001b[1;32mimport\u001b[0m \u001b[0mInput\u001b[0m\u001b[1;33m\u001b[0m\u001b[1;33m\u001b[0m\u001b[0m\n\u001b[0;32m     23\u001b[0m \u001b[1;32mfrom\u001b[0m \u001b[0mkeras\u001b[0m\u001b[1;33m.\u001b[0m\u001b[0mengine\u001b[0m\u001b[1;33m.\u001b[0m\u001b[0msequential\u001b[0m \u001b[1;32mimport\u001b[0m \u001b[0mSequential\u001b[0m\u001b[1;33m\u001b[0m\u001b[1;33m\u001b[0m\u001b[0m\n",
      "\u001b[1;32m~\\AppData\\Local\\Packages\\PythonSoftwareFoundation.Python.3.9_qbz5n2kfra8p0\\LocalCache\\local-packages\\Python39\\site-packages\\keras\\models\\__init__.py\u001b[0m in \u001b[0;36m<module>\u001b[1;34m\u001b[0m\n\u001b[0;32m     16\u001b[0m \u001b[1;33m\u001b[0m\u001b[0m\n\u001b[0;32m     17\u001b[0m \u001b[1;33m\u001b[0m\u001b[0m\n\u001b[1;32m---> 18\u001b[1;33m \u001b[1;32mfrom\u001b[0m \u001b[0mkeras\u001b[0m\u001b[1;33m.\u001b[0m\u001b[0mengine\u001b[0m\u001b[1;33m.\u001b[0m\u001b[0mfunctional\u001b[0m \u001b[1;32mimport\u001b[0m \u001b[0mFunctional\u001b[0m\u001b[1;33m\u001b[0m\u001b[1;33m\u001b[0m\u001b[0m\n\u001b[0m\u001b[0;32m     19\u001b[0m \u001b[1;32mfrom\u001b[0m \u001b[0mkeras\u001b[0m\u001b[1;33m.\u001b[0m\u001b[0mengine\u001b[0m\u001b[1;33m.\u001b[0m\u001b[0msequential\u001b[0m \u001b[1;32mimport\u001b[0m \u001b[0mSequential\u001b[0m\u001b[1;33m\u001b[0m\u001b[1;33m\u001b[0m\u001b[0m\n\u001b[0;32m     20\u001b[0m \u001b[1;32mfrom\u001b[0m \u001b[0mkeras\u001b[0m\u001b[1;33m.\u001b[0m\u001b[0mengine\u001b[0m\u001b[1;33m.\u001b[0m\u001b[0mtraining\u001b[0m \u001b[1;32mimport\u001b[0m \u001b[0mModel\u001b[0m\u001b[1;33m\u001b[0m\u001b[1;33m\u001b[0m\u001b[0m\n",
      "\u001b[1;32m~\\AppData\\Local\\Packages\\PythonSoftwareFoundation.Python.3.9_qbz5n2kfra8p0\\LocalCache\\local-packages\\Python39\\site-packages\\keras\\engine\\functional.py\u001b[0m in \u001b[0;36m<module>\u001b[1;34m\u001b[0m\n\u001b[0;32m     22\u001b[0m \u001b[1;32mimport\u001b[0m \u001b[0mwarnings\u001b[0m\u001b[1;33m\u001b[0m\u001b[1;33m\u001b[0m\u001b[0m\n\u001b[0;32m     23\u001b[0m \u001b[1;33m\u001b[0m\u001b[0m\n\u001b[1;32m---> 24\u001b[1;33m \u001b[1;32mimport\u001b[0m \u001b[0mtensorflow\u001b[0m\u001b[1;33m.\u001b[0m\u001b[0mcompat\u001b[0m\u001b[1;33m.\u001b[0m\u001b[0mv2\u001b[0m \u001b[1;32mas\u001b[0m \u001b[0mtf\u001b[0m\u001b[1;33m\u001b[0m\u001b[1;33m\u001b[0m\u001b[0m\n\u001b[0m\u001b[0;32m     25\u001b[0m \u001b[1;33m\u001b[0m\u001b[0m\n\u001b[0;32m     26\u001b[0m \u001b[1;32mfrom\u001b[0m \u001b[0mkeras\u001b[0m \u001b[1;32mimport\u001b[0m \u001b[0mbackend\u001b[0m\u001b[1;33m\u001b[0m\u001b[1;33m\u001b[0m\u001b[0m\n",
      "\u001b[1;32m~\\AppData\\Local\\Packages\\PythonSoftwareFoundation.Python.3.9_qbz5n2kfra8p0\\LocalCache\\local-packages\\Python39\\site-packages\\tensorflow\\__init__.py\u001b[0m in \u001b[0;36m<module>\u001b[1;34m\u001b[0m\n\u001b[0;32m     35\u001b[0m \u001b[1;32mimport\u001b[0m \u001b[0mtyping\u001b[0m \u001b[1;32mas\u001b[0m \u001b[0m_typing\u001b[0m\u001b[1;33m\u001b[0m\u001b[1;33m\u001b[0m\u001b[0m\n\u001b[0;32m     36\u001b[0m \u001b[1;33m\u001b[0m\u001b[0m\n\u001b[1;32m---> 37\u001b[1;33m \u001b[1;32mfrom\u001b[0m \u001b[0mtensorflow\u001b[0m\u001b[1;33m.\u001b[0m\u001b[0mpython\u001b[0m\u001b[1;33m.\u001b[0m\u001b[0mtools\u001b[0m \u001b[1;32mimport\u001b[0m \u001b[0mmodule_util\u001b[0m \u001b[1;32mas\u001b[0m \u001b[0m_module_util\u001b[0m\u001b[1;33m\u001b[0m\u001b[1;33m\u001b[0m\u001b[0m\n\u001b[0m\u001b[0;32m     38\u001b[0m \u001b[1;32mfrom\u001b[0m \u001b[0mtensorflow\u001b[0m\u001b[1;33m.\u001b[0m\u001b[0mpython\u001b[0m\u001b[1;33m.\u001b[0m\u001b[0mutil\u001b[0m\u001b[1;33m.\u001b[0m\u001b[0mlazy_loader\u001b[0m \u001b[1;32mimport\u001b[0m \u001b[0mLazyLoader\u001b[0m \u001b[1;32mas\u001b[0m \u001b[0m_LazyLoader\u001b[0m\u001b[1;33m\u001b[0m\u001b[1;33m\u001b[0m\u001b[0m\n\u001b[0;32m     39\u001b[0m \u001b[1;33m\u001b[0m\u001b[0m\n",
      "\u001b[1;31mModuleNotFoundError\u001b[0m: No module named 'tensorflow.python'"
     ]
    }
   ],
   "source": [
    "from keras.preprocessing.sequence import TimeseriesGenerator\n",
    "\n",
    "n_input = 3\n",
    "n_features = 1\n",
    "generator = TimeseriesGenerator(scaled_train, scaled_train, length=n_input, batch_size=1)"
   ]
  },
  {
   "cell_type": "markdown",
   "metadata": {},
   "source": [
    "### Linear Regression"
   ]
  },
  {
   "cell_type": "code",
   "execution_count": 84,
   "metadata": {},
   "outputs": [],
   "source": [
    "from sklearn.linear_model import LinearRegression\n",
    "lin_model=LinearRegression()"
   ]
  },
  {
   "cell_type": "code",
   "execution_count": 110,
   "metadata": {},
   "outputs": [
    {
     "name": "stdout",
     "output_type": "stream",
     "text": [
      "[[False False False]\n",
      " [ True False False]\n",
      " [ True  True False]\n",
      " ...\n",
      " [ True  True  True]\n",
      " [ True  True  True]\n",
      " [ True  True  True]]\n"
     ]
    }
   ],
   "source": [
    "import numpy as np\n",
    "x1,x2,x3,y=df['Spread_Lag_1'],df['Spread_Lag_2'],df['Spread_Lag_3'],df['Spread']\n",
    "x1,x2,x3,y=np.array(x1),np.array(x2),np.array(x3),np.array(y)\n",
    "x1,x2,x3,y=x1.reshape(-1,1),x2.reshape(-1,1),x3.reshape(-1,1),y.reshape(-1,1)\n",
    "final_x=np.concatenate((x1,x2,x3),axis=1)\n",
    "print(final_x)"
   ]
  },
  {
   "cell_type": "code",
   "execution_count": 111,
   "metadata": {},
   "outputs": [],
   "source": [
    "# len -> 1087348\n",
    "X_train,X_test,y_train,y_test=final_x[:924245],final_x[924245:],y[:924245],y[924245:]\n"
   ]
  },
  {
   "cell_type": "code",
   "execution_count": 112,
   "metadata": {},
   "outputs": [
    {
     "data": {
      "text/html": [
       "<style>#sk-container-id-1 {color: black;background-color: white;}#sk-container-id-1 pre{padding: 0;}#sk-container-id-1 div.sk-toggleable {background-color: white;}#sk-container-id-1 label.sk-toggleable__label {cursor: pointer;display: block;width: 100%;margin-bottom: 0;padding: 0.3em;box-sizing: border-box;text-align: center;}#sk-container-id-1 label.sk-toggleable__label-arrow:before {content: \"▸\";float: left;margin-right: 0.25em;color: #696969;}#sk-container-id-1 label.sk-toggleable__label-arrow:hover:before {color: black;}#sk-container-id-1 div.sk-estimator:hover label.sk-toggleable__label-arrow:before {color: black;}#sk-container-id-1 div.sk-toggleable__content {max-height: 0;max-width: 0;overflow: hidden;text-align: left;background-color: #f0f8ff;}#sk-container-id-1 div.sk-toggleable__content pre {margin: 0.2em;color: black;border-radius: 0.25em;background-color: #f0f8ff;}#sk-container-id-1 input.sk-toggleable__control:checked~div.sk-toggleable__content {max-height: 200px;max-width: 100%;overflow: auto;}#sk-container-id-1 input.sk-toggleable__control:checked~label.sk-toggleable__label-arrow:before {content: \"▾\";}#sk-container-id-1 div.sk-estimator input.sk-toggleable__control:checked~label.sk-toggleable__label {background-color: #d4ebff;}#sk-container-id-1 div.sk-label input.sk-toggleable__control:checked~label.sk-toggleable__label {background-color: #d4ebff;}#sk-container-id-1 input.sk-hidden--visually {border: 0;clip: rect(1px 1px 1px 1px);clip: rect(1px, 1px, 1px, 1px);height: 1px;margin: -1px;overflow: hidden;padding: 0;position: absolute;width: 1px;}#sk-container-id-1 div.sk-estimator {font-family: monospace;background-color: #f0f8ff;border: 1px dotted black;border-radius: 0.25em;box-sizing: border-box;margin-bottom: 0.5em;}#sk-container-id-1 div.sk-estimator:hover {background-color: #d4ebff;}#sk-container-id-1 div.sk-parallel-item::after {content: \"\";width: 100%;border-bottom: 1px solid gray;flex-grow: 1;}#sk-container-id-1 div.sk-label:hover label.sk-toggleable__label {background-color: #d4ebff;}#sk-container-id-1 div.sk-serial::before {content: \"\";position: absolute;border-left: 1px solid gray;box-sizing: border-box;top: 0;bottom: 0;left: 50%;z-index: 0;}#sk-container-id-1 div.sk-serial {display: flex;flex-direction: column;align-items: center;background-color: white;padding-right: 0.2em;padding-left: 0.2em;position: relative;}#sk-container-id-1 div.sk-item {position: relative;z-index: 1;}#sk-container-id-1 div.sk-parallel {display: flex;align-items: stretch;justify-content: center;background-color: white;position: relative;}#sk-container-id-1 div.sk-item::before, #sk-container-id-1 div.sk-parallel-item::before {content: \"\";position: absolute;border-left: 1px solid gray;box-sizing: border-box;top: 0;bottom: 0;left: 50%;z-index: -1;}#sk-container-id-1 div.sk-parallel-item {display: flex;flex-direction: column;z-index: 1;position: relative;background-color: white;}#sk-container-id-1 div.sk-parallel-item:first-child::after {align-self: flex-end;width: 50%;}#sk-container-id-1 div.sk-parallel-item:last-child::after {align-self: flex-start;width: 50%;}#sk-container-id-1 div.sk-parallel-item:only-child::after {width: 0;}#sk-container-id-1 div.sk-dashed-wrapped {border: 1px dashed gray;margin: 0 0.4em 0.5em 0.4em;box-sizing: border-box;padding-bottom: 0.4em;background-color: white;}#sk-container-id-1 div.sk-label label {font-family: monospace;font-weight: bold;display: inline-block;line-height: 1.2em;}#sk-container-id-1 div.sk-label-container {text-align: center;}#sk-container-id-1 div.sk-container {/* jupyter's `normalize.less` sets `[hidden] { display: none; }` but bootstrap.min.css set `[hidden] { display: none !important; }` so we also need the `!important` here to be able to override the default hidden behavior on the sphinx rendered scikit-learn.org. See: https://github.com/scikit-learn/scikit-learn/issues/21755 */display: inline-block !important;position: relative;}#sk-container-id-1 div.sk-text-repr-fallback {display: none;}</style><div id=\"sk-container-id-1\" class=\"sk-top-container\"><div class=\"sk-text-repr-fallback\"><pre>LinearRegression()</pre><b>In a Jupyter environment, please rerun this cell to show the HTML representation or trust the notebook. <br />On GitHub, the HTML representation is unable to render, please try loading this page with nbviewer.org.</b></div><div class=\"sk-container\" hidden><div class=\"sk-item\"><div class=\"sk-estimator sk-toggleable\"><input class=\"sk-toggleable__control sk-hidden--visually\" id=\"sk-estimator-id-1\" type=\"checkbox\" checked><label for=\"sk-estimator-id-1\" class=\"sk-toggleable__label sk-toggleable__label-arrow\">LinearRegression</label><div class=\"sk-toggleable__content\"><pre>LinearRegression()</pre></div></div></div></div></div>"
      ],
      "text/plain": [
       "LinearRegression()"
      ]
     },
     "execution_count": 112,
     "metadata": {},
     "output_type": "execute_result"
    }
   ],
   "source": [
    "lin_model.fit(X_train,y_train)"
   ]
  },
  {
   "cell_type": "code",
   "execution_count": 28,
   "metadata": {},
   "outputs": [],
   "source": [
    "def df_to_X_y2(df, window_size=5):\n",
    "    df_as_np = df.to_numpy()\n",
    "    X = []\n",
    "    y = []\n",
    "    for i in range(len(df_as_np)-window_size):\n",
    "        row = [r for r in df_as_np[i:i+window_size]]\n",
    "        X.append(row)\n",
    "        label = df_as_np[i+window_size][0]\n",
    "        y.append(label)\n",
    "    return np.array(X), np.array(y)"
   ]
  },
  {
   "cell_type": "code",
   "execution_count": 29,
   "metadata": {},
   "outputs": [
    {
     "data": {
      "text/plain": [
       "((1087343, 5, 83), (1087343,))"
      ]
     },
     "execution_count": 29,
     "metadata": {},
     "output_type": "execute_result"
    }
   ],
   "source": [
    "X2, y2 = df_to_X_y2(df)\n",
    "X2.shape, y2.shape"
   ]
  },
  {
   "cell_type": "code",
   "execution_count": 30,
   "metadata": {},
   "outputs": [
    {
     "data": {
      "text/plain": [
       "((950000, 5, 83),\n",
       " (950000,),\n",
       " (75000, 5, 83),\n",
       " (75000,),\n",
       " (62343, 5, 83),\n",
       " (62343,))"
      ]
     },
     "execution_count": 30,
     "metadata": {},
     "output_type": "execute_result"
    }
   ],
   "source": [
    "X2_train, y2_train = X2[:950000], y2[:950000]\n",
    "X2_val, y2_val = X2[950000:1025000], y2[950000:1025000]\n",
    "X2_test, y2_test = X2[1025000:], y2[1025000:]\n",
    "X2_train.shape, y2_train.shape, X2_val.shape, y2_val.shape, X2_test.shape, y2_test.shape"
   ]
  },
  {
   "cell_type": "markdown",
   "metadata": {},
   "source": [
    "### Training an LSTM Model"
   ]
  },
  {
   "cell_type": "code",
   "execution_count": 83,
   "metadata": {},
   "outputs": [
    {
     "ename": "ModuleNotFoundError",
     "evalue": "No module named 'tensorflow.python'",
     "output_type": "error",
     "traceback": [
      "\u001b[1;31m---------------------------------------------------------------------------\u001b[0m",
      "\u001b[1;31mModuleNotFoundError\u001b[0m                       Traceback (most recent call last)",
      "\u001b[1;32m~\\AppData\\Local\\Temp/ipykernel_28012/842039073.py\u001b[0m in \u001b[0;36m<module>\u001b[1;34m\u001b[0m\n\u001b[1;32m----> 1\u001b[1;33m \u001b[1;32mfrom\u001b[0m \u001b[0mkeras\u001b[0m\u001b[1;33m.\u001b[0m\u001b[0mmodels\u001b[0m \u001b[1;32mimport\u001b[0m \u001b[0mSequential\u001b[0m\u001b[1;33m\u001b[0m\u001b[1;33m\u001b[0m\u001b[0m\n\u001b[0m\u001b[0;32m      2\u001b[0m \u001b[1;32mfrom\u001b[0m \u001b[0mkeras\u001b[0m\u001b[1;33m.\u001b[0m\u001b[0mlayers\u001b[0m \u001b[1;32mimport\u001b[0m \u001b[0mDense\u001b[0m\u001b[1;33m\u001b[0m\u001b[1;33m\u001b[0m\u001b[0m\n\u001b[0;32m      3\u001b[0m \u001b[1;32mfrom\u001b[0m \u001b[0mkeras\u001b[0m\u001b[1;33m.\u001b[0m\u001b[0mlayers\u001b[0m \u001b[1;32mimport\u001b[0m \u001b[0mLSTM\u001b[0m\u001b[1;33m\u001b[0m\u001b[1;33m\u001b[0m\u001b[0m\n",
      "\u001b[1;32m~\\AppData\\Local\\Packages\\PythonSoftwareFoundation.Python.3.9_qbz5n2kfra8p0\\LocalCache\\local-packages\\Python39\\site-packages\\keras\\__init__.py\u001b[0m in \u001b[0;36m<module>\u001b[1;34m\u001b[0m\n\u001b[0;32m     19\u001b[0m \"\"\"\n\u001b[0;32m     20\u001b[0m \u001b[1;32mfrom\u001b[0m \u001b[0mkeras\u001b[0m \u001b[1;32mimport\u001b[0m \u001b[0mdistribute\u001b[0m\u001b[1;33m\u001b[0m\u001b[1;33m\u001b[0m\u001b[0m\n\u001b[1;32m---> 21\u001b[1;33m \u001b[1;32mfrom\u001b[0m \u001b[0mkeras\u001b[0m \u001b[1;32mimport\u001b[0m \u001b[0mmodels\u001b[0m\u001b[1;33m\u001b[0m\u001b[1;33m\u001b[0m\u001b[0m\n\u001b[0m\u001b[0;32m     22\u001b[0m \u001b[1;32mfrom\u001b[0m \u001b[0mkeras\u001b[0m\u001b[1;33m.\u001b[0m\u001b[0mengine\u001b[0m\u001b[1;33m.\u001b[0m\u001b[0minput_layer\u001b[0m \u001b[1;32mimport\u001b[0m \u001b[0mInput\u001b[0m\u001b[1;33m\u001b[0m\u001b[1;33m\u001b[0m\u001b[0m\n\u001b[0;32m     23\u001b[0m \u001b[1;32mfrom\u001b[0m \u001b[0mkeras\u001b[0m\u001b[1;33m.\u001b[0m\u001b[0mengine\u001b[0m\u001b[1;33m.\u001b[0m\u001b[0msequential\u001b[0m \u001b[1;32mimport\u001b[0m \u001b[0mSequential\u001b[0m\u001b[1;33m\u001b[0m\u001b[1;33m\u001b[0m\u001b[0m\n",
      "\u001b[1;32m~\\AppData\\Local\\Packages\\PythonSoftwareFoundation.Python.3.9_qbz5n2kfra8p0\\LocalCache\\local-packages\\Python39\\site-packages\\keras\\models\\__init__.py\u001b[0m in \u001b[0;36m<module>\u001b[1;34m\u001b[0m\n\u001b[0;32m     16\u001b[0m \u001b[1;33m\u001b[0m\u001b[0m\n\u001b[0;32m     17\u001b[0m \u001b[1;33m\u001b[0m\u001b[0m\n\u001b[1;32m---> 18\u001b[1;33m \u001b[1;32mfrom\u001b[0m \u001b[0mkeras\u001b[0m\u001b[1;33m.\u001b[0m\u001b[0mengine\u001b[0m\u001b[1;33m.\u001b[0m\u001b[0mfunctional\u001b[0m \u001b[1;32mimport\u001b[0m \u001b[0mFunctional\u001b[0m\u001b[1;33m\u001b[0m\u001b[1;33m\u001b[0m\u001b[0m\n\u001b[0m\u001b[0;32m     19\u001b[0m \u001b[1;32mfrom\u001b[0m \u001b[0mkeras\u001b[0m\u001b[1;33m.\u001b[0m\u001b[0mengine\u001b[0m\u001b[1;33m.\u001b[0m\u001b[0msequential\u001b[0m \u001b[1;32mimport\u001b[0m \u001b[0mSequential\u001b[0m\u001b[1;33m\u001b[0m\u001b[1;33m\u001b[0m\u001b[0m\n\u001b[0;32m     20\u001b[0m \u001b[1;32mfrom\u001b[0m \u001b[0mkeras\u001b[0m\u001b[1;33m.\u001b[0m\u001b[0mengine\u001b[0m\u001b[1;33m.\u001b[0m\u001b[0mtraining\u001b[0m \u001b[1;32mimport\u001b[0m \u001b[0mModel\u001b[0m\u001b[1;33m\u001b[0m\u001b[1;33m\u001b[0m\u001b[0m\n",
      "\u001b[1;32m~\\AppData\\Local\\Packages\\PythonSoftwareFoundation.Python.3.9_qbz5n2kfra8p0\\LocalCache\\local-packages\\Python39\\site-packages\\keras\\engine\\functional.py\u001b[0m in \u001b[0;36m<module>\u001b[1;34m\u001b[0m\n\u001b[0;32m     22\u001b[0m \u001b[1;32mimport\u001b[0m \u001b[0mwarnings\u001b[0m\u001b[1;33m\u001b[0m\u001b[1;33m\u001b[0m\u001b[0m\n\u001b[0;32m     23\u001b[0m \u001b[1;33m\u001b[0m\u001b[0m\n\u001b[1;32m---> 24\u001b[1;33m \u001b[1;32mimport\u001b[0m \u001b[0mtensorflow\u001b[0m\u001b[1;33m.\u001b[0m\u001b[0mcompat\u001b[0m\u001b[1;33m.\u001b[0m\u001b[0mv2\u001b[0m \u001b[1;32mas\u001b[0m \u001b[0mtf\u001b[0m\u001b[1;33m\u001b[0m\u001b[1;33m\u001b[0m\u001b[0m\n\u001b[0m\u001b[0;32m     25\u001b[0m \u001b[1;33m\u001b[0m\u001b[0m\n\u001b[0;32m     26\u001b[0m \u001b[1;32mfrom\u001b[0m \u001b[0mkeras\u001b[0m \u001b[1;32mimport\u001b[0m \u001b[0mbackend\u001b[0m\u001b[1;33m\u001b[0m\u001b[1;33m\u001b[0m\u001b[0m\n",
      "\u001b[1;32m~\\AppData\\Local\\Packages\\PythonSoftwareFoundation.Python.3.9_qbz5n2kfra8p0\\LocalCache\\local-packages\\Python39\\site-packages\\tensorflow\\__init__.py\u001b[0m in \u001b[0;36m<module>\u001b[1;34m\u001b[0m\n\u001b[0;32m     22\u001b[0m \u001b[1;33m\u001b[0m\u001b[0m\n\u001b[0;32m     23\u001b[0m \u001b[1;31m# pylint: disable=g-bad-import-order\u001b[0m\u001b[1;33m\u001b[0m\u001b[1;33m\u001b[0m\u001b[0m\n\u001b[1;32m---> 24\u001b[1;33m \u001b[1;32mfrom\u001b[0m \u001b[0mtensorflow\u001b[0m\u001b[1;33m.\u001b[0m\u001b[0mpython\u001b[0m \u001b[1;32mimport\u001b[0m \u001b[0mpywrap_tensorflow\u001b[0m  \u001b[1;31m# pylint: disable=unused-import\u001b[0m\u001b[1;33m\u001b[0m\u001b[1;33m\u001b[0m\u001b[0m\n\u001b[0m\u001b[0;32m     25\u001b[0m \u001b[1;33m\u001b[0m\u001b[0m\n\u001b[0;32m     26\u001b[0m \u001b[1;32mtry\u001b[0m\u001b[1;33m:\u001b[0m\u001b[1;33m\u001b[0m\u001b[1;33m\u001b[0m\u001b[0m\n",
      "\u001b[1;31mModuleNotFoundError\u001b[0m: No module named 'tensorflow.python'"
     ]
    }
   ],
   "source": [
    "from keras.models import Sequential\n",
    "from keras.layers import Dense\n",
    "from keras.layers import LSTM"
   ]
  },
  {
   "cell_type": "code",
   "execution_count": 81,
   "metadata": {},
   "outputs": [],
   "source": [
    "from sklearn.linear_model import LinearRegression\n",
    "from sklearn.metrics import mean_squared_error\n"
   ]
  },
  {
   "cell_type": "code",
   "execution_count": null,
   "metadata": {},
   "outputs": [],
   "source": [
    "# df.set_index('BarDateTime', inplace=True)\n",
    "# grouped_df = df.groupby('TradeDate')"
   ]
  },
  {
   "cell_type": "code",
   "execution_count": null,
   "metadata": {},
   "outputs": [],
   "source": [
    "# df2 = df.apply(lambda x: x.iloc[0:50])"
   ]
  },
  {
   "cell_type": "code",
   "execution_count": null,
   "metadata": {},
   "outputs": [],
   "source": [
    "# for i in range(0, len(df), 24):\n",
    "    # slc = df.iloc[i : i + 24]"
   ]
  },
  {
   "cell_type": "code",
   "execution_count": null,
   "metadata": {},
   "outputs": [],
   "source": [
    "# by_ticker_date = df.sort_index().groupby(['BarDateTime'])\n",
    "# remove_non_mkt_hrs = (by_ticker_date.apply(lambda x: [x['09:30:00':'16:00:00']]))"
   ]
  },
  {
   "cell_type": "code",
   "execution_count": null,
   "metadata": {},
   "outputs": [],
   "source": [
    "# index\n",
    "# remove premarket and after market data"
   ]
  },
  {
   "cell_type": "code",
   "execution_count": null,
   "metadata": {},
   "outputs": [],
   "source": [
    "# calc spread and other features "
   ]
  },
  {
   "cell_type": "markdown",
   "metadata": {},
   "source": [
    "steps\n",
    "1. drop features we know we won't need\n",
    "2. add features\n",
    "3. corr()\n",
    "4. basic linear regression\n",
    "5. try cross validation / LSTM / RNN"
   ]
  }
 ],
 "metadata": {
  "kernelspec": {
   "display_name": "Python 3 (ipykernel)",
   "language": "python",
   "name": "python3"
  },
  "language_info": {
   "codemirror_mode": {
    "name": "ipython",
    "version": 3
   },
   "file_extension": ".py",
   "mimetype": "text/x-python",
   "name": "python",
   "nbconvert_exporter": "python",
   "pygments_lexer": "ipython3",
   "version": "3.9.13"
  },
  "vscode": {
   "interpreter": {
    "hash": "8f2b8f7d7da3b55c8640ff0ad5b752ba61ffdffe564a4378c820bcd9964834b8"
   }
  }
 },
 "nbformat": 4,
 "nbformat_minor": 2
}
